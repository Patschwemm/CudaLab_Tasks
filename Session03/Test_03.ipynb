{
 "cells": [
  {
   "cell_type": "code",
   "execution_count": 1,
   "metadata": {},
   "outputs": [],
   "source": [
    "import os\n",
    "import shutil\n",
    "import utils\n",
    "import numpy as np\n",
    "import random\n",
    "\n",
    "from tqdm import tqdm\n",
    "import torch\n",
    "import torch.nn as nn\n",
    "import torchvision.transforms as T\n",
    "from torchvision import datasets, models\n",
    "from torch.utils.tensorboard import SummaryWriter\n",
    "from sklearn.metrics import confusion_matrix, ConfusionMatrixDisplay"
   ]
  },
  {
   "cell_type": "code",
   "execution_count": 2,
   "metadata": {},
   "outputs": [],
   "source": [
    "utils.set_random_seed()"
   ]
  },
  {
   "cell_type": "code",
   "execution_count": 3,
   "metadata": {},
   "outputs": [],
   "source": [
    "### Setting up \"constants\"\n",
    "NUM_LABELS = 196\n",
    "BATCH_SIZE = 64\n",
    "LR = 2e-4\n",
    "DEVICE = torch.device(\"cuda\" if torch.cuda.is_available() else \"cpu\")\n",
    "NUM_EPOCHS = 25"
   ]
  },
  {
   "cell_type": "code",
   "execution_count": 4,
   "metadata": {},
   "outputs": [],
   "source": [
    "simple_transforms = T.Compose([\n",
    "    T.ToTensor(),\n",
    "    T.Resize((224,244)),\n",
    "    T.RandomResizedCrop(224),\n",
    "    T.RandomHorizontalFlip(p=0.25),\n",
    "    T.Normalize([0.485, 0.456, 0.406], [0.229, 0.224, 0.225]),\n",
    "    # T.GaussianBlur(kernel_size=(5,5)),\n",
    "    # T.ColorJitter(brightness=0.2, contrast=0.2, saturation=0.2, hue=0.2)\n",
    "])\n",
    "\n",
    "resize_test = T.Compose([\n",
    "    T.ToTensor(),\n",
    "    T.Resize((224,224)),\n",
    "    T.Normalize([0.485, 0.456, 0.406], [0.229, 0.224, 0.225]),\n",
    "])"
   ]
  },
  {
   "cell_type": "code",
   "execution_count": 5,
   "metadata": {},
   "outputs": [
    {
     "name": "stdout",
     "output_type": "stream",
     "text": [
      "cuda\n"
     ]
    }
   ],
   "source": [
    "# set number of labels manually\n",
    "NUM_LABELS = 196\n",
    "BATCH_SIZE = 64\n",
    "LR = 2e-4\n",
    "DEVICE = torch.device(\"cuda\" if torch.cuda.is_available() else \"cpu\")\n",
    "NUM_EPOCHS = 15\n",
    "print(DEVICE)"
   ]
  },
  {
   "cell_type": "code",
   "execution_count": 6,
   "metadata": {},
   "outputs": [],
   "source": [
    "%%capture\n",
    "train_set = datasets.StanfordCars(\n",
    "    \"./stanfordcars/\", \n",
    "    split=\"train\", \n",
    "    transform=simple_transforms, \n",
    "    download=True\n",
    ")\n",
    "test_set = datasets.StanfordCars(\n",
    "    \"./stanfordcars/\", \n",
    "    split=\"test\", \n",
    "    transform=resize_test,\n",
    "    download=True\n",
    ")\n",
    "\n",
    "\n",
    "train_loader = torch.utils.data.DataLoader(\n",
    "    train_set, \n",
    "    batch_size=BATCH_SIZE, \n",
    "    shuffle=True, \n",
    "    pin_memory=True\n",
    ")\n",
    "\n",
    "test_loader = torch.utils.data.DataLoader(\n",
    "    test_set, \n",
    "    batch_size=BATCH_SIZE, \n",
    "    shuffle=False, \n",
    "    pin_memory=True\n",
    ")"
   ]
  },
  {
   "cell_type": "code",
   "execution_count": 7,
   "metadata": {},
   "outputs": [],
   "source": [
    "# Tensorboard config and writter init\n",
    "PROJECT = \"Assignment3\"\n",
    "TBOARD_LOGS = os.path.join(os.getcwd(), \"tboard_logs\", PROJECT)\n",
    "if not os.path.exists(TBOARD_LOGS):\n",
    "    os.makedirs(TBOARD_LOGS)\n",
    "\n",
    "shutil.rmtree(TBOARD_LOGS)\n",
    "writer = SummaryWriter(TBOARD_LOGS)"
   ]
  },
  {
   "cell_type": "code",
   "execution_count": 8,
   "metadata": {},
   "outputs": [],
   "source": [
    "# cutmix implementation, implemented from pseudo code given by the paper\n",
    "\n",
    "def CutMix(input, target):\n",
    "    # get batch size to shuffle index of minibatch, and set a shuffled list\n",
    "    B = list(range(input.shape[0]))\n",
    "    shuffled_batch_idx = torch.tensor(random.sample(B, len(B)))\n",
    "\n",
    "    # alg according to paper\n",
    "    W = input[0].shape[1]\n",
    "    H = input[0].shape[2]\n",
    "    Lambda = torch.rand(1)\n",
    "    r_x = torch.rand(1) * H\n",
    "    r_y = torch.rand(1) * W\n",
    "    r_w = torch.sqrt(1 - Lambda) * H\n",
    "    r_h = torch.sqrt(1 - Lambda) * W\n",
    "\n",
    "    x1 = int(torch.clamp((r_x - r_w / 2), min=0, max=W))\n",
    "    x2 = int(torch.clamp((r_x + r_w / 2), min=0, max=W))\n",
    "    y1 = int(torch.clamp((r_y - r_h / 2), min=0, max=H))\n",
    "    y2 = int(torch.clamp((r_y + r_h / 2), min=0, max=H))\n",
    "    \n",
    "    # target = Lambda * target + (1 - Lambda) * target[shuffled_batch_idx]\n",
    "    Lambda = 1 - ((x2-x1) * (y2 - y1) / (W*H))\n",
    "    input[:, :, y1:y2, x1:x2] = input[shuffled_batch_idx, :, y1:y2, x1:x2]\n",
    "\n",
    "    return input, target, shuffled_batch_idx, Lambda"
   ]
  },
  {
   "cell_type": "code",
   "execution_count": 20,
   "metadata": {},
   "outputs": [],
   "source": [
    "def train_epoch(model, train_loader, optimizer, criterion, epoch, device=DEVICE):\n",
    "    \"\"\" Training a model for one epoch \"\"\"\n",
    "    \n",
    "    loss_list = []\n",
    "    progress_bar = tqdm(enumerate(train_loader), total=len(train_loader))\n",
    "    for i, (images, labels) in progress_bar:\n",
    "        images = images.to(device)\n",
    "        labels = labels.to(device)\n",
    "        \n",
    "        # Clear gradients w.r.t. parameters\n",
    "        optimizer.zero_grad()\n",
    "         \n",
    "        prob_cutmix = torch.rand(1)\n",
    "        if prob_cutmix > 0.75:\n",
    "            # used for cutmix agumentation\n",
    "            images, labels, shuffled_idx, Lambda = CutMix(images, labels)\n",
    "            \n",
    "            # Forward pass to get output/logits\n",
    "            outputs = model(images)\n",
    "            \n",
    "            # Calculate Loss: softmax --> cross entropy loss\n",
    "            # split loss values according to cutmix paper\n",
    "            loss = criterion(outputs, labels) * Lambda  + criterion(outputs, labels[shuffled_idx]) * (1 - Lambda)\n",
    "        else: \n",
    "\n",
    "            #compute output as usual\n",
    "            outputs = model(images)\n",
    "            loss = criterion(outputs, labels)\n",
    "\n",
    "        loss_list.append(loss.item())\n",
    "         \n",
    "        # Getting gradients w.r.t. parameters\n",
    "        loss.backward()\n",
    "         \n",
    "        # Updating parameters\n",
    "        optimizer.step()\n",
    "\n",
    "        progress_bar.set_description(f\"Epoch {epoch+1} Iter {i+1}: loss {loss.item():.5f}. \")\n",
    "        \n",
    "    mean_loss = np.mean(loss_list)\n",
    "    return mean_loss, loss_list\n",
    "\n",
    "\n",
    "@torch.no_grad()\n",
    "def eval_model(model, eval_loader, criterion, device=DEVICE):\n",
    "    \"\"\" Evaluating the model for either validation or test \"\"\"\n",
    "    correct = 0\n",
    "    total = 0\n",
    "    loss_list = []\n",
    "    \n",
    "    for images, labels in eval_loader:\n",
    "        images = images.to(device)\n",
    "        labels = labels.to(device)\n",
    "        \n",
    "        # Forward pass only to get logits/output\n",
    "        outputs = model(images)\n",
    "                 \n",
    "        loss = criterion(outputs, labels)\n",
    "        loss_list.append(loss.item())\n",
    "            \n",
    "        # Get predictions from the maximum value\n",
    "        preds = torch.argmax(outputs, dim=1)\n",
    "        correct += len( torch.where(preds==labels)[0] )\n",
    "        total += len(labels)\n",
    "                 \n",
    "    # Total correct predictions and loss\n",
    "    accuracy = correct / total * 100\n",
    "    loss = np.mean(loss_list)\n",
    "    \n",
    "    return accuracy, loss\n",
    "\n",
    "\n",
    "def train_model(model, optimizer, scheduler, criterion, train_loader, valid_loader, num_epochs, device, tboard, start_epoch=0):\n",
    "    \"\"\" Training a model for a given number of epochs\"\"\"\n",
    "    \n",
    "    train_loss = []\n",
    "    val_loss =  []\n",
    "    loss_iters = []\n",
    "    valid_acc = []\n",
    "    \n",
    "    for epoch in range(num_epochs):\n",
    "           \n",
    "        # validation epoch\n",
    "        model.eval()  # important for dropout and batch norms\n",
    "        accuracy, loss = eval_model(\n",
    "                    model=model, eval_loader=valid_loader,\n",
    "                    criterion=criterion, device=device\n",
    "            )\n",
    "        valid_acc.append(accuracy)\n",
    "        val_loss.append(loss)\n",
    "        tboard.add_scalar(f'Accuracy/Valid', accuracy, global_step=epoch+start_epoch)\n",
    "        tboard.add_scalar(f'Loss/Valid', loss, global_step=epoch+start_epoch)\n",
    "        \n",
    "        # training epoch\n",
    "        model.train()  # important for dropout and batch norms\n",
    "        mean_loss, cur_loss_iters = train_epoch(\n",
    "                model=model, train_loader=train_loader, optimizer=optimizer,\n",
    "                criterion=criterion, epoch=epoch, device=device\n",
    "            )\n",
    "        scheduler.step()\n",
    "        train_loss.append(mean_loss)\n",
    "        tboard.add_scalar(f'Loss/Train', mean_loss, global_step=epoch+start_epoch)\n",
    "\n",
    "        loss_iters = loss_iters + cur_loss_iters\n",
    "        \n",
    "        # if(epoch % 5 == 0 or epoch==num_epochs-1):\n",
    "        # print(f\"Epoch {epoch+1}/{num_epochs}\")\n",
    "        # print(f\"    Train loss: {round(mean_loss, 5)}\")\n",
    "        # print(f\"    Valid loss: {round(loss, 5)}\")\n",
    "        # print(f\"    Accuracy: {accuracy}%\")\n",
    "        # print(\"\\n\")\n",
    "    \n",
    "    print(f\"Training completed\")\n",
    "    return train_loss, val_loss, loss_iters, valid_acc"
   ]
  },
  {
   "cell_type": "code",
   "execution_count": 21,
   "metadata": {},
   "outputs": [],
   "source": [
    "%%capture\n",
    "# Capture, cause pretrained param has a deprecated warning, but still works\n",
    "# Loading models\n",
    "vgg_model = models.vgg16_bn(pretrained=True)"
   ]
  },
  {
   "cell_type": "code",
   "execution_count": 22,
   "metadata": {},
   "outputs": [],
   "source": [
    "vgg_model.classifier = nn.Linear(7*7*512, NUM_LABELS)\n",
    "\n",
    "vgg_model.to(DEVICE);"
   ]
  },
  {
   "cell_type": "code",
   "execution_count": 23,
   "metadata": {},
   "outputs": [],
   "source": [
    "# classification loss function\n",
    "criterion = nn.CrossEntropyLoss()\n",
    "\n",
    "# Observe that all parameters are being optimized\n",
    "optimizer_vgg = torch.optim.Adam(vgg_model.parameters(), lr=3e-4)\n",
    "\n",
    "# Decay LR by a factor of 0.1 every 7 epochs\n",
    "scheduler_vgg = torch.optim.lr_scheduler.StepLR(optimizer_vgg, step_size=7, gamma=0.1)"
   ]
  },
  {
   "cell_type": "code",
   "execution_count": 24,
   "metadata": {},
   "outputs": [],
   "source": [
    "TBOARD_LOGS = os.path.join(os.getcwd(), \"tboard_logs\", \"VGG16_tuned\")\n",
    "if not os.path.exists(TBOARD_LOGS):\n",
    "    os.makedirs(TBOARD_LOGS)\n",
    "\n",
    "shutil.rmtree(TBOARD_LOGS)\n",
    "writer_vgg = SummaryWriter(TBOARD_LOGS)"
   ]
  },
  {
   "cell_type": "code",
   "execution_count": 25,
   "metadata": {},
   "outputs": [
    {
     "name": "stderr",
     "output_type": "stream",
     "text": [
      "Epoch 1 Iter 128: loss 5.33086. : 100%|██████████| 128/128 [01:40<00:00,  1.28it/s]\n",
      "Epoch 2 Iter 81: loss 4.75970. :  63%|██████▎   | 81/128 [01:03<00:42,  1.11it/s]"
     ]
    }
   ],
   "source": [
    "#model, optimizer, scheduler, criterion, train_loader, \n",
    "#    valid_loader, num_epochs, device, all_labels, tboard=None, start_epoch=0\n",
    "#    ):\n",
    "train_loss, val_loss, loss_iters, valid_acc = train_model(\n",
    "        model=vgg_model, optimizer=optimizer_vgg, scheduler=scheduler_vgg, criterion=criterion,\n",
    "        train_loader=train_loader, valid_loader=test_loader, num_epochs=20,\n",
    "        device=DEVICE, tboard=writer_vgg\n",
    ")"
   ]
  },
  {
   "cell_type": "code",
   "execution_count": 15,
   "metadata": {},
   "outputs": [
    {
     "name": "stderr",
     "output_type": "stream",
     "text": [
      "Epoch 1 Iter 128: loss 4.50115. : 100%|██████████| 128/128 [01:44<00:00,  1.23it/s]\n"
     ]
    },
    {
     "name": "stdout",
     "output_type": "stream",
     "text": [
      "Epoch 1/20\n",
      "    Train loss: 5.11658\n",
      "    Valid loss: 5.29631\n",
      "    Accuracy: 0.7088670563362767%\n",
      "\n",
      "\n"
     ]
    },
    {
     "name": "stderr",
     "output_type": "stream",
     "text": [
      "Epoch 2 Iter 128: loss 4.09720. : 100%|██████████| 128/128 [01:43<00:00,  1.23it/s]\n"
     ]
    },
    {
     "name": "stdout",
     "output_type": "stream",
     "text": [
      "Epoch 2/20\n",
      "    Train loss: 4.25511\n",
      "    Valid loss: 4.8006\n",
      "    Accuracy: 4.340256187041413%\n",
      "\n",
      "\n"
     ]
    },
    {
     "name": "stderr",
     "output_type": "stream",
     "text": [
      "Epoch 3 Iter 128: loss 2.47387. : 100%|██████████| 128/128 [01:44<00:00,  1.23it/s]\n"
     ]
    },
    {
     "name": "stdout",
     "output_type": "stream",
     "text": [
      "Epoch 3/20\n",
      "    Train loss: 3.36023\n",
      "    Valid loss: 3.25228\n",
      "    Accuracy: 21.10434025618704%\n",
      "\n",
      "\n"
     ]
    },
    {
     "name": "stderr",
     "output_type": "stream",
     "text": [
      "Epoch 4 Iter 128: loss 4.91178. : 100%|██████████| 128/128 [01:44<00:00,  1.23it/s]\n"
     ]
    },
    {
     "name": "stdout",
     "output_type": "stream",
     "text": [
      "Epoch 4/20\n",
      "    Train loss: 2.83432\n",
      "    Valid loss: 2.52851\n",
      "    Accuracy: 35.70451436388509%\n",
      "\n",
      "\n"
     ]
    },
    {
     "name": "stderr",
     "output_type": "stream",
     "text": [
      "Epoch 5 Iter 128: loss 1.55159. : 100%|██████████| 128/128 [01:44<00:00,  1.23it/s]\n"
     ]
    },
    {
     "name": "stdout",
     "output_type": "stream",
     "text": [
      "Epoch 5/20\n",
      "    Train loss: 2.52717\n",
      "    Valid loss: 1.93573\n",
      "    Accuracy: 49.27247854744435%\n",
      "\n",
      "\n"
     ]
    },
    {
     "name": "stderr",
     "output_type": "stream",
     "text": [
      "Epoch 6 Iter 128: loss 3.30698. : 100%|██████████| 128/128 [01:43<00:00,  1.23it/s]\n"
     ]
    },
    {
     "name": "stdout",
     "output_type": "stream",
     "text": [
      "Epoch 6/20\n",
      "    Train loss: 2.07982\n",
      "    Valid loss: 1.98197\n",
      "    Accuracy: 47.8796169630643%\n",
      "\n",
      "\n"
     ]
    },
    {
     "name": "stderr",
     "output_type": "stream",
     "text": [
      "Epoch 7 Iter 128: loss 3.67052. : 100%|██████████| 128/128 [01:44<00:00,  1.22it/s]\n"
     ]
    },
    {
     "name": "stdout",
     "output_type": "stream",
     "text": [
      "Epoch 7/20\n",
      "    Train loss: 2.14418\n",
      "    Valid loss: 1.42047\n",
      "    Accuracy: 61.882850391742316%\n",
      "\n",
      "\n"
     ]
    },
    {
     "name": "stderr",
     "output_type": "stream",
     "text": [
      "Epoch 8 Iter 128: loss 3.18588. : 100%|██████████| 128/128 [01:43<00:00,  1.23it/s]\n"
     ]
    },
    {
     "name": "stdout",
     "output_type": "stream",
     "text": [
      "Epoch 8/20\n",
      "    Train loss: 1.79835\n",
      "    Valid loss: 1.3135\n",
      "    Accuracy: 63.611491108071135%\n",
      "\n",
      "\n"
     ]
    },
    {
     "name": "stderr",
     "output_type": "stream",
     "text": [
      "Epoch 9 Iter 128: loss 4.01721. : 100%|██████████| 128/128 [01:44<00:00,  1.23it/s]\n"
     ]
    },
    {
     "name": "stdout",
     "output_type": "stream",
     "text": [
      "Epoch 9/20\n",
      "    Train loss: 1.59674\n",
      "    Valid loss: 0.95264\n",
      "    Accuracy: 74.2693694814078%\n",
      "\n",
      "\n"
     ]
    },
    {
     "name": "stderr",
     "output_type": "stream",
     "text": [
      "Epoch 10 Iter 128: loss 0.79617. : 100%|██████████| 128/128 [01:44<00:00,  1.23it/s]\n"
     ]
    },
    {
     "name": "stdout",
     "output_type": "stream",
     "text": [
      "Epoch 10/20\n",
      "    Train loss: 1.49222\n",
      "    Valid loss: 0.90122\n",
      "    Accuracy: 75.46325083944782%\n",
      "\n",
      "\n"
     ]
    },
    {
     "name": "stderr",
     "output_type": "stream",
     "text": [
      "Epoch 11 Iter 128: loss 0.68025. : 100%|██████████| 128/128 [01:43<00:00,  1.23it/s]\n"
     ]
    },
    {
     "name": "stdout",
     "output_type": "stream",
     "text": [
      "Epoch 11/20\n",
      "    Train loss: 1.48107\n",
      "    Valid loss: 0.89023\n",
      "    Accuracy: 75.67466732993408%\n",
      "\n",
      "\n"
     ]
    },
    {
     "name": "stderr",
     "output_type": "stream",
     "text": [
      "Epoch 12 Iter 128: loss 1.65169. : 100%|██████████| 128/128 [01:44<00:00,  1.23it/s]\n"
     ]
    },
    {
     "name": "stdout",
     "output_type": "stream",
     "text": [
      "Epoch 12/20\n",
      "    Train loss: 1.59193\n",
      "    Valid loss: 0.8637\n",
      "    Accuracy: 75.93582887700535%\n",
      "\n",
      "\n"
     ]
    },
    {
     "name": "stderr",
     "output_type": "stream",
     "text": [
      "Epoch 13 Iter 128: loss 1.20199. : 100%|██████████| 128/128 [01:44<00:00,  1.23it/s]\n"
     ]
    },
    {
     "name": "stdout",
     "output_type": "stream",
     "text": [
      "Epoch 13/20\n",
      "    Train loss: 1.31979\n",
      "    Valid loss: 0.89965\n",
      "    Accuracy: 76.34622559383162%\n",
      "\n",
      "\n"
     ]
    },
    {
     "name": "stderr",
     "output_type": "stream",
     "text": [
      "Epoch 14 Iter 128: loss 2.69872. : 100%|██████████| 128/128 [01:44<00:00,  1.23it/s]\n"
     ]
    },
    {
     "name": "stdout",
     "output_type": "stream",
     "text": [
      "Epoch 14/20\n",
      "    Train loss: 1.31809\n",
      "    Valid loss: 0.83812\n",
      "    Accuracy: 76.83123989553539%\n",
      "\n",
      "\n"
     ]
    },
    {
     "name": "stderr",
     "output_type": "stream",
     "text": [
      "Epoch 15 Iter 128: loss 0.65469. : 100%|██████████| 128/128 [01:44<00:00,  1.23it/s]\n"
     ]
    },
    {
     "name": "stdout",
     "output_type": "stream",
     "text": [
      "Epoch 15/20\n",
      "    Train loss: 1.42659\n",
      "    Valid loss: 0.85356\n",
      "    Accuracy: 77.29138166894664%\n",
      "\n",
      "\n"
     ]
    },
    {
     "name": "stderr",
     "output_type": "stream",
     "text": [
      "Epoch 16 Iter 128: loss 0.35069. : 100%|██████████| 128/128 [01:44<00:00,  1.22it/s]\n"
     ]
    },
    {
     "name": "stdout",
     "output_type": "stream",
     "text": [
      "Epoch 16/20\n",
      "    Train loss: 1.30295\n",
      "    Valid loss: 0.81413\n",
      "    Accuracy: 77.25407287650789%\n",
      "\n",
      "\n"
     ]
    },
    {
     "name": "stderr",
     "output_type": "stream",
     "text": [
      "Epoch 17 Iter 128: loss 2.38656. : 100%|██████████| 128/128 [01:44<00:00,  1.22it/s]\n"
     ]
    },
    {
     "name": "stdout",
     "output_type": "stream",
     "text": [
      "Epoch 17/20\n",
      "    Train loss: 1.26123\n",
      "    Valid loss: 0.81097\n",
      "    Accuracy: 77.4530531028479%\n",
      "\n",
      "\n"
     ]
    },
    {
     "name": "stderr",
     "output_type": "stream",
     "text": [
      "Epoch 18 Iter 128: loss 3.32715. : 100%|██████████| 128/128 [01:44<00:00,  1.22it/s]\n"
     ]
    },
    {
     "name": "stdout",
     "output_type": "stream",
     "text": [
      "Epoch 18/20\n",
      "    Train loss: 1.28107\n",
      "    Valid loss: 0.82264\n",
      "    Accuracy: 77.00534759358288%\n",
      "\n",
      "\n"
     ]
    },
    {
     "name": "stderr",
     "output_type": "stream",
     "text": [
      "Epoch 19 Iter 128: loss 0.38047. : 100%|██████████| 128/128 [01:44<00:00,  1.23it/s]\n"
     ]
    },
    {
     "name": "stdout",
     "output_type": "stream",
     "text": [
      "Epoch 19/20\n",
      "    Train loss: 1.3288\n",
      "    Valid loss: 0.8172\n",
      "    Accuracy: 77.41574431040915%\n",
      "\n",
      "\n"
     ]
    },
    {
     "name": "stderr",
     "output_type": "stream",
     "text": [
      "Epoch 20 Iter 128: loss 1.95745. : 100%|██████████| 128/128 [01:43<00:00,  1.23it/s]"
     ]
    },
    {
     "name": "stdout",
     "output_type": "stream",
     "text": [
      "Epoch 20/20\n",
      "    Train loss: 1.30857\n",
      "    Valid loss: 0.79827\n",
      "    Accuracy: 77.92563114040543%\n",
      "\n",
      "\n",
      "Training completed\n"
     ]
    },
    {
     "name": "stderr",
     "output_type": "stream",
     "text": [
      "\n"
     ]
    }
   ],
   "source": [
    "#model, optimizer, scheduler, criterion, train_loader, \n",
    "#    valid_loader, num_epochs, device, all_labels, tboard=None, start_epoch=0\n",
    "#    ):\n",
    "train_loss, val_loss, loss_iters, valid_acc = train_model(\n",
    "        model=vgg_model, optimizer=optimizer_vgg, scheduler=scheduler_vgg, criterion=criterion,\n",
    "        train_loader=train_loader, valid_loader=test_loader, num_epochs=20,\n",
    "        device=DEVICE, tboard=writer_vgg\n",
    ")"
   ]
  },
  {
   "cell_type": "code",
   "execution_count": null,
   "metadata": {},
   "outputs": [
    {
     "name": "stderr",
     "output_type": "stream",
     "text": [
      "Epoch 1 Iter 128: loss 3.93485. : 100%|██████████| 128/128 [01:39<00:00,  1.29it/s]\n"
     ]
    },
    {
     "name": "stdout",
     "output_type": "stream",
     "text": [
      "Epoch 1/20\n",
      "    Train loss: 4.86316\n",
      "    Valid loss: 5.27226\n",
      "    Accuracy: 0.9949011317000372%\n",
      "\n",
      "\n"
     ]
    },
    {
     "name": "stderr",
     "output_type": "stream",
     "text": [
      "Epoch 2 Iter 128: loss 3.42686. : 100%|██████████| 128/128 [01:40<00:00,  1.28it/s]\n"
     ]
    },
    {
     "name": "stdout",
     "output_type": "stream",
     "text": [
      "Epoch 2/20\n",
      "    Train loss: 3.43878\n",
      "    Valid loss: 4.00098\n",
      "    Accuracy: 11.279691580649173%\n",
      "\n",
      "\n"
     ]
    },
    {
     "name": "stderr",
     "output_type": "stream",
     "text": [
      "Epoch 3 Iter 128: loss 2.44985. : 100%|██████████| 128/128 [01:40<00:00,  1.28it/s]\n"
     ]
    },
    {
     "name": "stdout",
     "output_type": "stream",
     "text": [
      "Epoch 3/20\n",
      "    Train loss: 2.48135\n",
      "    Valid loss: 2.63334\n",
      "    Accuracy: 33.2421340629275%\n",
      "\n",
      "\n"
     ]
    },
    {
     "name": "stderr",
     "output_type": "stream",
     "text": [
      "Epoch 4 Iter 128: loss 2.35421. : 100%|██████████| 128/128 [01:39<00:00,  1.29it/s]\n"
     ]
    },
    {
     "name": "stdout",
     "output_type": "stream",
     "text": [
      "Epoch 4/20\n",
      "    Train loss: 1.93827\n",
      "    Valid loss: 2.44167\n",
      "    Accuracy: 38.452928740206445%\n",
      "\n",
      "\n"
     ]
    },
    {
     "name": "stderr",
     "output_type": "stream",
     "text": [
      "Epoch 5 Iter 128: loss 1.06484. : 100%|██████████| 128/128 [01:40<00:00,  1.28it/s]\n"
     ]
    },
    {
     "name": "stdout",
     "output_type": "stream",
     "text": [
      "Epoch 5/20\n",
      "    Train loss: 1.58504\n",
      "    Valid loss: 1.95093\n",
      "    Accuracy: 50.00621813207312%\n",
      "\n",
      "\n"
     ]
    },
    {
     "name": "stderr",
     "output_type": "stream",
     "text": [
      "Epoch 6 Iter 128: loss 1.15789. : 100%|██████████| 128/128 [01:40<00:00,  1.28it/s]\n"
     ]
    },
    {
     "name": "stdout",
     "output_type": "stream",
     "text": [
      "Epoch 6/20\n",
      "    Train loss: 1.40001\n",
      "    Valid loss: 1.49327\n",
      "    Accuracy: 59.22148986444472%\n",
      "\n",
      "\n"
     ]
    },
    {
     "name": "stderr",
     "output_type": "stream",
     "text": [
      "Epoch 7 Iter 128: loss 1.52628. : 100%|██████████| 128/128 [01:40<00:00,  1.28it/s]\n"
     ]
    },
    {
     "name": "stdout",
     "output_type": "stream",
     "text": [
      "Epoch 7/20\n",
      "    Train loss: 1.28941\n",
      "    Valid loss: 1.3579\n",
      "    Accuracy: 63.710981221241134%\n",
      "\n",
      "\n"
     ]
    },
    {
     "name": "stderr",
     "output_type": "stream",
     "text": [
      "Epoch 8 Iter 128: loss 0.93966. : 100%|██████████| 128/128 [01:40<00:00,  1.28it/s]\n"
     ]
    },
    {
     "name": "stdout",
     "output_type": "stream",
     "text": [
      "Epoch 8/20\n",
      "    Train loss: 0.98675\n",
      "    Valid loss: 1.22664\n",
      "    Accuracy: 67.5910956348713%\n",
      "\n",
      "\n"
     ]
    },
    {
     "name": "stderr",
     "output_type": "stream",
     "text": [
      "Epoch 9 Iter 128: loss 1.34231. : 100%|██████████| 128/128 [01:40<00:00,  1.28it/s]\n"
     ]
    },
    {
     "name": "stdout",
     "output_type": "stream",
     "text": [
      "Epoch 9/20\n",
      "    Train loss: 0.89926\n",
      "    Valid loss: 0.8717\n",
      "    Accuracy: 75.51299589603283%\n",
      "\n",
      "\n"
     ]
    },
    {
     "name": "stderr",
     "output_type": "stream",
     "text": [
      "Epoch 10 Iter 128: loss 0.47695. : 100%|██████████| 128/128 [01:40<00:00,  1.28it/s]\n"
     ]
    },
    {
     "name": "stdout",
     "output_type": "stream",
     "text": [
      "Epoch 10/20\n",
      "    Train loss: 0.84425\n",
      "    Valid loss: 0.8477\n",
      "    Accuracy: 76.43327944285537%\n",
      "\n",
      "\n"
     ]
    },
    {
     "name": "stderr",
     "output_type": "stream",
     "text": [
      "Epoch 11 Iter 128: loss 0.62704. : 100%|██████████| 128/128 [01:40<00:00,  1.28it/s]\n"
     ]
    },
    {
     "name": "stdout",
     "output_type": "stream",
     "text": [
      "Epoch 11/20\n",
      "    Train loss: 0.78819\n",
      "    Valid loss: 0.84406\n",
      "    Accuracy: 76.17211789578411%\n",
      "\n",
      "\n"
     ]
    },
    {
     "name": "stderr",
     "output_type": "stream",
     "text": [
      "Epoch 12 Iter 128: loss 0.97939. : 100%|██████████| 128/128 [01:39<00:00,  1.28it/s]\n"
     ]
    },
    {
     "name": "stdout",
     "output_type": "stream",
     "text": [
      "Epoch 12/20\n",
      "    Train loss: 0.73609\n",
      "    Valid loss: 0.83082\n",
      "    Accuracy: 76.58251461261038%\n",
      "\n",
      "\n"
     ]
    },
    {
     "name": "stderr",
     "output_type": "stream",
     "text": [
      "Epoch 13 Iter 128: loss 0.99115. : 100%|██████████| 128/128 [01:39<00:00,  1.28it/s]\n"
     ]
    },
    {
     "name": "stdout",
     "output_type": "stream",
     "text": [
      "Epoch 13/20\n",
      "    Train loss: 0.72114\n",
      "    Valid loss: 0.81413\n",
      "    Accuracy: 77.56497948016415%\n",
      "\n",
      "\n"
     ]
    },
    {
     "name": "stderr",
     "output_type": "stream",
     "text": [
      "Epoch 14 Iter 128: loss 0.96711. : 100%|██████████| 128/128 [01:40<00:00,  1.28it/s]\n"
     ]
    },
    {
     "name": "stdout",
     "output_type": "stream",
     "text": [
      "Epoch 14/20\n",
      "    Train loss: 0.70715\n",
      "    Valid loss: 0.82879\n",
      "    Accuracy: 77.17945529163039%\n",
      "\n",
      "\n"
     ]
    },
    {
     "name": "stderr",
     "output_type": "stream",
     "text": [
      "Epoch 15 Iter 128: loss 0.68214. : 100%|██████████| 128/128 [01:40<00:00,  1.27it/s]\n"
     ]
    },
    {
     "name": "stdout",
     "output_type": "stream",
     "text": [
      "Epoch 15/20\n",
      "    Train loss: 0.69567\n",
      "    Valid loss: 0.81102\n",
      "    Accuracy: 78.07486631016043%\n",
      "\n",
      "\n"
     ]
    },
    {
     "name": "stderr",
     "output_type": "stream",
     "text": [
      "Epoch 16 Iter 128: loss 1.16340. : 100%|██████████| 128/128 [01:40<00:00,  1.27it/s]\n"
     ]
    },
    {
     "name": "stdout",
     "output_type": "stream",
     "text": [
      "Epoch 16/20\n",
      "    Train loss: 0.68414\n",
      "    Valid loss: 0.8087\n",
      "    Accuracy: 78.26141027235418%\n",
      "\n",
      "\n"
     ]
    },
    {
     "name": "stderr",
     "output_type": "stream",
     "text": [
      "Epoch 17 Iter 128: loss 1.74474. : 100%|██████████| 128/128 [01:39<00:00,  1.28it/s]\n"
     ]
    },
    {
     "name": "stdout",
     "output_type": "stream",
     "text": [
      "Epoch 17/20\n",
      "    Train loss: 0.66767\n",
      "    Valid loss: 0.80396\n",
      "    Accuracy: 77.98781246113667%\n",
      "\n",
      "\n"
     ]
    },
    {
     "name": "stderr",
     "output_type": "stream",
     "text": [
      "Epoch 18 Iter 128: loss 0.62671. : 100%|██████████| 128/128 [01:39<00:00,  1.28it/s]\n"
     ]
    },
    {
     "name": "stdout",
     "output_type": "stream",
     "text": [
      "Epoch 18/20\n",
      "    Train loss: 0.62912\n",
      "    Valid loss: 0.79925\n",
      "    Accuracy: 78.09973883845292%\n",
      "\n",
      "\n"
     ]
    },
    {
     "name": "stderr",
     "output_type": "stream",
     "text": [
      "Epoch 19 Iter 128: loss 0.41274. : 100%|██████████| 128/128 [01:40<00:00,  1.28it/s]\n"
     ]
    },
    {
     "name": "stdout",
     "output_type": "stream",
     "text": [
      "Epoch 19/20\n",
      "    Train loss: 0.64678\n",
      "    Valid loss: 0.7993\n",
      "    Accuracy: 77.97537619699042%\n",
      "\n",
      "\n"
     ]
    },
    {
     "name": "stderr",
     "output_type": "stream",
     "text": [
      "Epoch 20 Iter 128: loss 0.33265. : 100%|██████████| 128/128 [01:40<00:00,  1.28it/s]"
     ]
    },
    {
     "name": "stdout",
     "output_type": "stream",
     "text": [
      "Epoch 20/20\n",
      "    Train loss: 0.64386\n",
      "    Valid loss: 0.79677\n",
      "    Accuracy: 78.07486631016043%\n",
      "\n",
      "\n",
      "Training completed\n"
     ]
    },
    {
     "name": "stderr",
     "output_type": "stream",
     "text": [
      "\n"
     ]
    }
   ],
   "source": [
    "#model, optimizer, scheduler, criterion, train_loader, \n",
    "#    valid_loader, num_epochs, device, all_labels, tboard=None, start_epoch=0\n",
    "#    ):\n",
    "train_loss, val_loss, loss_iters, valid_acc = train_model(\n",
    "        model=vgg_model, optimizer=optimizer_vgg, scheduler=scheduler_vgg, criterion=criterion,\n",
    "        train_loader=train_loader, valid_loader=test_loader, num_epochs=20,\n",
    "        device=DEVICE, tboard=writer_vgg\n",
    ")"
   ]
  },
  {
   "cell_type": "code",
   "execution_count": null,
   "metadata": {},
   "outputs": [],
   "source": []
  }
 ],
 "metadata": {
  "kernelspec": {
   "display_name": "cuda",
   "language": "python",
   "name": "python3"
  },
  "language_info": {
   "codemirror_mode": {
    "name": "ipython",
    "version": 3
   },
   "file_extension": ".py",
   "mimetype": "text/x-python",
   "name": "python",
   "nbconvert_exporter": "python",
   "pygments_lexer": "ipython3",
   "version": "3.8.15"
  },
  "orig_nbformat": 4,
  "vscode": {
   "interpreter": {
    "hash": "a3c029b62e9af0c14c8d20940fd275a7433002acd075126a9d5c47011a54832f"
   }
  }
 },
 "nbformat": 4,
 "nbformat_minor": 2
}
