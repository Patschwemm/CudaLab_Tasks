{
 "cells": [
  {
   "cell_type": "markdown",
   "id": "0c29d0a9-7cc4-4a0a-8332-b9ce8c76818b",
   "metadata": {},
   "source": [
    "# Lab Vision Sytems: Session 1\n",
    "\n",
    "## Organization\n",
    "You can download the course materials from the course website\n",
    "\n",
    " - **Username**: VisionLabWS2223\n",
    " - **Password**: ConvNextB"
   ]
  },
  {
   "cell_type": "markdown",
   "id": "43d8d4ac-8df0-4514-b2e5-13bb9e914432",
   "metadata": {
    "slideshow": {
     "slide_type": "slide"
    }
   },
   "source": [
    "# Today: \n",
    "\n",
    "### 1- Connecting to Lab Machines and Jupyter\n",
    "### 2- Pytorch Basics\n",
    "### 3- Automatic Differenciation\n",
    "### 4- Training and Evaluating an MLP\n",
    "##### 4.1 Dataset and Data Loading\n",
    "##### 4.2 Implementing an MLP\n",
    "##### 4.3 Training and Evaluation"
   ]
  },
  {
   "cell_type": "markdown",
   "id": "8ab1965d-1bce-4956-b457-0b3d7974af52",
   "metadata": {},
   "source": [
    "---"
   ]
  },
  {
   "cell_type": "markdown",
   "id": "9915338a-d3c4-4af6-95a8-9bbd7735430e",
   "metadata": {},
   "source": [
    "# 1. Connecting to GPU Machines and Jupyter"
   ]
  },
  {
   "cell_type": "markdown",
   "id": "e28871de-a10d-49aa-9527-1b80f5234195",
   "metadata": {},
   "source": [
    "### Connecting to the GPUs"
   ]
  },
  {
   "cell_type": "markdown",
   "id": "208b673f-da17-4d20-a63b-bf5fa509d063",
   "metadata": {},
   "source": [
    "### Shortcuts\n",
    "\n",
    " - 'a': Add new cell\n",
    " - 'dd': Delete cell ('d' twice)\n",
    " - 'z': Undo last operation\n",
    " - 'c': Copy cell\n",
    " - 'v': Paste below\n",
    " - 'shift' + 'enter': Run current cell"
   ]
  },
  {
   "cell_type": "markdown",
   "id": "7e98dc59-2882-48dd-b55d-6e62b7ce5d1a",
   "metadata": {},
   "source": [
    "### Debugging"
   ]
  },
  {
   "cell_type": "code",
   "execution_count": 1,
   "id": "5f8eea08-ec6c-48a1-9102-a1f4760d72d2",
   "metadata": {},
   "outputs": [
    {
     "name": "stdout",
     "output_type": "stream",
     "text": [
      "hello\n",
      "> \u001b[0;32m<ipython-input-1-39843a2bfefa>\u001b[0m(10)\u001b[0;36mhi_bye\u001b[0;34m()\u001b[0m\n",
      "\u001b[0;32m      7 \u001b[0;31m\u001b[0;32mdef\u001b[0m \u001b[0mhi_bye\u001b[0m\u001b[0;34m(\u001b[0m\u001b[0;34m)\u001b[0m\u001b[0;34m:\u001b[0m\u001b[0;34m\u001b[0m\u001b[0;34m\u001b[0m\u001b[0m\n",
      "\u001b[0m\u001b[0;32m      8 \u001b[0;31m    \u001b[0mprint\u001b[0m\u001b[0;34m(\u001b[0m\u001b[0;34m\"hello\"\u001b[0m\u001b[0;34m)\u001b[0m\u001b[0;34m\u001b[0m\u001b[0;34m\u001b[0m\u001b[0m\n",
      "\u001b[0m\u001b[0;32m      9 \u001b[0;31m    \u001b[0mpdb\u001b[0m\u001b[0;34m.\u001b[0m\u001b[0mset_trace\u001b[0m\u001b[0;34m(\u001b[0m\u001b[0;34m)\u001b[0m\u001b[0;34m\u001b[0m\u001b[0;34m\u001b[0m\u001b[0m\n",
      "\u001b[0m\u001b[0;32m---> 10 \u001b[0;31m    \u001b[0mprint\u001b[0m\u001b[0;34m(\u001b[0m\u001b[0;34m\"goodbye\"\u001b[0m\u001b[0;34m)\u001b[0m\u001b[0;34m\u001b[0m\u001b[0;34m\u001b[0m\u001b[0m\n",
      "\u001b[0m\u001b[0;32m     11 \u001b[0;31m\u001b[0mhi_bye\u001b[0m\u001b[0;34m(\u001b[0m\u001b[0;34m)\u001b[0m\u001b[0;34m\u001b[0m\u001b[0;34m\u001b[0m\u001b[0m\n",
      "\u001b[0m\n"
     ]
    },
    {
     "name": "stdin",
     "output_type": "stream",
     "text": [
      "ipdb>  l\n"
     ]
    },
    {
     "name": "stdout",
     "output_type": "stream",
     "text": [
      "\u001b[1;32m      5 \u001b[0m\u001b[0;32mimport\u001b[0m \u001b[0mpdb\u001b[0m\u001b[0;34m\u001b[0m\u001b[0;34m\u001b[0m\u001b[0m\n",
      "\u001b[1;32m      6 \u001b[0m\u001b[0;34m\u001b[0m\u001b[0m\n",
      "\u001b[1;32m      7 \u001b[0m\u001b[0;32mdef\u001b[0m \u001b[0mhi_bye\u001b[0m\u001b[0;34m(\u001b[0m\u001b[0;34m)\u001b[0m\u001b[0;34m:\u001b[0m\u001b[0;34m\u001b[0m\u001b[0;34m\u001b[0m\u001b[0m\n",
      "\u001b[1;32m      8 \u001b[0m    \u001b[0mprint\u001b[0m\u001b[0;34m(\u001b[0m\u001b[0;34m\"hello\"\u001b[0m\u001b[0;34m)\u001b[0m\u001b[0;34m\u001b[0m\u001b[0;34m\u001b[0m\u001b[0m\n",
      "\u001b[1;32m      9 \u001b[0m    \u001b[0mpdb\u001b[0m\u001b[0;34m.\u001b[0m\u001b[0mset_trace\u001b[0m\u001b[0;34m(\u001b[0m\u001b[0;34m)\u001b[0m\u001b[0;34m\u001b[0m\u001b[0;34m\u001b[0m\u001b[0m\n",
      "\u001b[0;32m---> 10 \u001b[0;31m    \u001b[0mprint\u001b[0m\u001b[0;34m(\u001b[0m\u001b[0;34m\"goodbye\"\u001b[0m\u001b[0;34m)\u001b[0m\u001b[0;34m\u001b[0m\u001b[0;34m\u001b[0m\u001b[0m\n",
      "\u001b[0m\u001b[1;32m     11 \u001b[0m\u001b[0mhi_bye\u001b[0m\u001b[0;34m(\u001b[0m\u001b[0;34m)\u001b[0m\u001b[0;34m\u001b[0m\u001b[0;34m\u001b[0m\u001b[0m\n",
      "\n"
     ]
    },
    {
     "name": "stdin",
     "output_type": "stream",
     "text": [
      "ipdb>  c\n"
     ]
    },
    {
     "name": "stdout",
     "output_type": "stream",
     "text": [
      "goodbye\n"
     ]
    }
   ],
   "source": [
    "\"\"\"\n",
    "PDB is the Python debugger module. \n",
    "Very usefull for debugging and profiling purposes\n",
    "\"\"\"\n",
    "import pdb\n",
    "\n",
    "def hi_bye():\n",
    "    print(\"hello\")\n",
    "    pdb.set_trace()\n",
    "    print(\"goodbye\")\n",
    "hi_bye()"
   ]
  },
  {
   "cell_type": "code",
   "execution_count": 2,
   "id": "f97cd5c6-f507-4336-b6eb-8e89b679999d",
   "metadata": {},
   "outputs": [
    {
     "name": "stdout",
     "output_type": "stream",
     "text": [
      "> \u001b[0;32m<ipython-input-2-454e776b1da7>\u001b[0m(8)\u001b[0;36madd_numbers\u001b[0;34m()\u001b[0m\n",
      "\u001b[0;32m      6 \u001b[0;31m    \u001b[0;34m\"\"\" Adding two numbers :) \"\"\"\u001b[0m\u001b[0;34m\u001b[0m\u001b[0;34m\u001b[0m\u001b[0m\n",
      "\u001b[0m\u001b[0;32m      7 \u001b[0;31m    \u001b[0mbreakpoint\u001b[0m\u001b[0;34m(\u001b[0m\u001b[0;34m)\u001b[0m\u001b[0;34m\u001b[0m\u001b[0;34m\u001b[0m\u001b[0m\n",
      "\u001b[0m\u001b[0;32m----> 8 \u001b[0;31m    \u001b[0manswer\u001b[0m \u001b[0;34m=\u001b[0m \u001b[0mn1\u001b[0m \u001b[0;34m+\u001b[0m \u001b[0mn2\u001b[0m\u001b[0;34m\u001b[0m\u001b[0;34m\u001b[0m\u001b[0m\n",
      "\u001b[0m\u001b[0;32m      9 \u001b[0;31m    \u001b[0;32mreturn\u001b[0m \u001b[0manswer\u001b[0m\u001b[0;34m\u001b[0m\u001b[0;34m\u001b[0m\u001b[0m\n",
      "\u001b[0m\u001b[0;32m     10 \u001b[0;31m\u001b[0;34m\u001b[0m\u001b[0m\n",
      "\u001b[0m\n"
     ]
    },
    {
     "name": "stdin",
     "output_type": "stream",
     "text": [
      "ipdb>  n1\n"
     ]
    },
    {
     "name": "stdout",
     "output_type": "stream",
     "text": [
      "2\n"
     ]
    },
    {
     "name": "stdin",
     "output_type": "stream",
     "text": [
      "ipdb>  n2\n"
     ]
    },
    {
     "name": "stdout",
     "output_type": "stream",
     "text": [
      "3\n"
     ]
    },
    {
     "name": "stdin",
     "output_type": "stream",
     "text": [
      "ipdb>  down\n"
     ]
    },
    {
     "name": "stdout",
     "output_type": "stream",
     "text": [
      "*** Newest frame\n"
     ]
    },
    {
     "name": "stdin",
     "output_type": "stream",
     "text": [
      "ipdb>  up\n"
     ]
    },
    {
     "name": "stdout",
     "output_type": "stream",
     "text": [
      "> \u001b[0;32m<ipython-input-2-454e776b1da7>\u001b[0m(17)\u001b[0;36mcall_add\u001b[0;34m()\u001b[0m\n",
      "\u001b[0;32m     15 \u001b[0;31m\u001b[0;34m\u001b[0m\u001b[0m\n",
      "\u001b[0m\u001b[0;32m     16 \u001b[0;31m\u001b[0;32mdef\u001b[0m \u001b[0mcall_add\u001b[0m\u001b[0;34m(\u001b[0m\u001b[0mn1\u001b[0m\u001b[0;34m,\u001b[0m \u001b[0mn2\u001b[0m\u001b[0;34m)\u001b[0m\u001b[0;34m:\u001b[0m\u001b[0;34m\u001b[0m\u001b[0;34m\u001b[0m\u001b[0m\n",
      "\u001b[0m\u001b[0;32m---> 17 \u001b[0;31m    \u001b[0mresult\u001b[0m \u001b[0;34m=\u001b[0m \u001b[0madd_numbers\u001b[0m\u001b[0;34m(\u001b[0m\u001b[0mn1\u001b[0m\u001b[0;34m,\u001b[0m \u001b[0mn2\u001b[0m\u001b[0;34m)\u001b[0m\u001b[0;34m\u001b[0m\u001b[0;34m\u001b[0m\u001b[0m\n",
      "\u001b[0m\u001b[0;32m     18 \u001b[0;31m    \u001b[0;32mreturn\u001b[0m \u001b[0mresult\u001b[0m\u001b[0;34m\u001b[0m\u001b[0;34m\u001b[0m\u001b[0m\n",
      "\u001b[0m\u001b[0;32m     19 \u001b[0;31m\u001b[0;34m\u001b[0m\u001b[0m\n",
      "\u001b[0m\n"
     ]
    },
    {
     "name": "stdin",
     "output_type": "stream",
     "text": [
      "ipdb>  up\n"
     ]
    },
    {
     "name": "stdout",
     "output_type": "stream",
     "text": [
      "> \u001b[0;32m<ipython-input-2-454e776b1da7>\u001b[0m(20)\u001b[0;36m<module>\u001b[0;34m()\u001b[0m\n",
      "\u001b[0;32m     16 \u001b[0;31m\u001b[0;32mdef\u001b[0m \u001b[0mcall_add\u001b[0m\u001b[0;34m(\u001b[0m\u001b[0mn1\u001b[0m\u001b[0;34m,\u001b[0m \u001b[0mn2\u001b[0m\u001b[0;34m)\u001b[0m\u001b[0;34m:\u001b[0m\u001b[0;34m\u001b[0m\u001b[0;34m\u001b[0m\u001b[0m\n",
      "\u001b[0m\u001b[0;32m     17 \u001b[0;31m    \u001b[0mresult\u001b[0m \u001b[0;34m=\u001b[0m \u001b[0madd_numbers\u001b[0m\u001b[0;34m(\u001b[0m\u001b[0mn1\u001b[0m\u001b[0;34m,\u001b[0m \u001b[0mn2\u001b[0m\u001b[0;34m)\u001b[0m\u001b[0;34m\u001b[0m\u001b[0;34m\u001b[0m\u001b[0m\n",
      "\u001b[0m\u001b[0;32m     18 \u001b[0;31m    \u001b[0;32mreturn\u001b[0m \u001b[0mresult\u001b[0m\u001b[0;34m\u001b[0m\u001b[0;34m\u001b[0m\u001b[0m\n",
      "\u001b[0m\u001b[0;32m     19 \u001b[0;31m\u001b[0;34m\u001b[0m\u001b[0m\n",
      "\u001b[0m\u001b[0;32m---> 20 \u001b[0;31m\u001b[0mcall_add\u001b[0m\u001b[0;34m(\u001b[0m\u001b[0;36m2\u001b[0m\u001b[0;34m,\u001b[0m \u001b[0;36m3\u001b[0m\u001b[0;34m)\u001b[0m\u001b[0;34m\u001b[0m\u001b[0;34m\u001b[0m\u001b[0m\n",
      "\u001b[0m\n"
     ]
    },
    {
     "name": "stdin",
     "output_type": "stream",
     "text": [
      "ipdb>  down\n"
     ]
    },
    {
     "name": "stdout",
     "output_type": "stream",
     "text": [
      "> \u001b[0;32m<ipython-input-2-454e776b1da7>\u001b[0m(17)\u001b[0;36mcall_add\u001b[0;34m()\u001b[0m\n",
      "\u001b[0;32m     15 \u001b[0;31m\u001b[0;34m\u001b[0m\u001b[0m\n",
      "\u001b[0m\u001b[0;32m     16 \u001b[0;31m\u001b[0;32mdef\u001b[0m \u001b[0mcall_add\u001b[0m\u001b[0;34m(\u001b[0m\u001b[0mn1\u001b[0m\u001b[0;34m,\u001b[0m \u001b[0mn2\u001b[0m\u001b[0;34m)\u001b[0m\u001b[0;34m:\u001b[0m\u001b[0;34m\u001b[0m\u001b[0;34m\u001b[0m\u001b[0m\n",
      "\u001b[0m\u001b[0;32m---> 17 \u001b[0;31m    \u001b[0mresult\u001b[0m \u001b[0;34m=\u001b[0m \u001b[0madd_numbers\u001b[0m\u001b[0;34m(\u001b[0m\u001b[0mn1\u001b[0m\u001b[0;34m,\u001b[0m \u001b[0mn2\u001b[0m\u001b[0;34m)\u001b[0m\u001b[0;34m\u001b[0m\u001b[0;34m\u001b[0m\u001b[0m\n",
      "\u001b[0m\u001b[0;32m     18 \u001b[0;31m    \u001b[0;32mreturn\u001b[0m \u001b[0mresult\u001b[0m\u001b[0;34m\u001b[0m\u001b[0;34m\u001b[0m\u001b[0m\n",
      "\u001b[0m\u001b[0;32m     19 \u001b[0;31m\u001b[0;34m\u001b[0m\u001b[0m\n",
      "\u001b[0m\n"
     ]
    },
    {
     "name": "stdin",
     "output_type": "stream",
     "text": [
      "ipdb>  c\n"
     ]
    },
    {
     "data": {
      "text/plain": [
       "5"
      ]
     },
     "execution_count": 2,
     "metadata": {},
     "output_type": "execute_result"
    }
   ],
   "source": [
    "\"\"\"\n",
    "Since Python 3.3 you can also set breakpoints: breakpoint()\n",
    "\"\"\"\n",
    "\n",
    "def add_numbers(n1, n2):\n",
    "    \"\"\" Adding two numbers :) \"\"\"\n",
    "    breakpoint()\n",
    "    answer = n1 + n2\n",
    "    return answer\n",
    "\n",
    "def divide_numbers(n1, n2):\n",
    "    \"\"\" Dividing two numbers :) \"\"\"\n",
    "    answer = n1 / n2\n",
    "    return answer\n",
    "\n",
    "def call_add(n1, n2):\n",
    "    result = add_numbers(n1, n2)\n",
    "    return result\n",
    "\n",
    "call_add(2, 3)"
   ]
  },
  {
   "cell_type": "code",
   "execution_count": 3,
   "id": "71e245cd-f7f4-4f21-9660-2cdf869713a1",
   "metadata": {},
   "outputs": [
    {
     "ename": "ZeroDivisionError",
     "evalue": "division by zero",
     "output_type": "error",
     "traceback": [
      "\u001b[0;31m---------------------------------------------------------------------------\u001b[0m",
      "\u001b[0;31mZeroDivisionError\u001b[0m                         Traceback (most recent call last)",
      "\u001b[0;32m<ipython-input-3-7a619002f584>\u001b[0m in \u001b[0;36m<module>\u001b[0;34m\u001b[0m\n\u001b[1;32m      1\u001b[0m \u001b[0;31m# Debug magic: %debug\u001b[0m\u001b[0;34m\u001b[0m\u001b[0;34m\u001b[0m\u001b[0;34m\u001b[0m\u001b[0m\n\u001b[1;32m      2\u001b[0m \u001b[0;31m# divide_numbers(10, 2)\u001b[0m\u001b[0;34m\u001b[0m\u001b[0;34m\u001b[0m\u001b[0;34m\u001b[0m\u001b[0m\n\u001b[0;32m----> 3\u001b[0;31m \u001b[0mdivide_numbers\u001b[0m\u001b[0;34m(\u001b[0m\u001b[0;36m10\u001b[0m\u001b[0;34m,\u001b[0m \u001b[0;36m0\u001b[0m\u001b[0;34m)\u001b[0m\u001b[0;34m\u001b[0m\u001b[0;34m\u001b[0m\u001b[0m\n\u001b[0m",
      "\u001b[0;32m<ipython-input-2-454e776b1da7>\u001b[0m in \u001b[0;36mdivide_numbers\u001b[0;34m(n1, n2)\u001b[0m\n\u001b[1;32m     11\u001b[0m \u001b[0;32mdef\u001b[0m \u001b[0mdivide_numbers\u001b[0m\u001b[0;34m(\u001b[0m\u001b[0mn1\u001b[0m\u001b[0;34m,\u001b[0m \u001b[0mn2\u001b[0m\u001b[0;34m)\u001b[0m\u001b[0;34m:\u001b[0m\u001b[0;34m\u001b[0m\u001b[0;34m\u001b[0m\u001b[0m\n\u001b[1;32m     12\u001b[0m     \u001b[0;34m\"\"\" Dividing two numbers :) \"\"\"\u001b[0m\u001b[0;34m\u001b[0m\u001b[0;34m\u001b[0m\u001b[0m\n\u001b[0;32m---> 13\u001b[0;31m     \u001b[0manswer\u001b[0m \u001b[0;34m=\u001b[0m \u001b[0mn1\u001b[0m \u001b[0;34m/\u001b[0m \u001b[0mn2\u001b[0m\u001b[0;34m\u001b[0m\u001b[0;34m\u001b[0m\u001b[0m\n\u001b[0m\u001b[1;32m     14\u001b[0m     \u001b[0;32mreturn\u001b[0m \u001b[0manswer\u001b[0m\u001b[0;34m\u001b[0m\u001b[0;34m\u001b[0m\u001b[0m\n\u001b[1;32m     15\u001b[0m \u001b[0;34m\u001b[0m\u001b[0m\n",
      "\u001b[0;31mZeroDivisionError\u001b[0m: division by zero"
     ]
    }
   ],
   "source": [
    "# Debug magic: %debug\n",
    "# divide_numbers(10, 2)\n",
    "divide_numbers(10, 0)"
   ]
  },
  {
   "cell_type": "code",
   "execution_count": 4,
   "id": "64571151-8fc1-4385-8390-fa80e8384358",
   "metadata": {},
   "outputs": [
    {
     "name": "stdout",
     "output_type": "stream",
     "text": [
      "> \u001b[0;32m<ipython-input-2-454e776b1da7>\u001b[0m(13)\u001b[0;36mdivide_numbers\u001b[0;34m()\u001b[0m\n",
      "\u001b[0;32m     11 \u001b[0;31m\u001b[0;32mdef\u001b[0m \u001b[0mdivide_numbers\u001b[0m\u001b[0;34m(\u001b[0m\u001b[0mn1\u001b[0m\u001b[0;34m,\u001b[0m \u001b[0mn2\u001b[0m\u001b[0;34m)\u001b[0m\u001b[0;34m:\u001b[0m\u001b[0;34m\u001b[0m\u001b[0;34m\u001b[0m\u001b[0m\n",
      "\u001b[0m\u001b[0;32m     12 \u001b[0;31m    \u001b[0;34m\"\"\" Dividing two numbers :) \"\"\"\u001b[0m\u001b[0;34m\u001b[0m\u001b[0;34m\u001b[0m\u001b[0m\n",
      "\u001b[0m\u001b[0;32m---> 13 \u001b[0;31m    \u001b[0manswer\u001b[0m \u001b[0;34m=\u001b[0m \u001b[0mn1\u001b[0m \u001b[0;34m/\u001b[0m \u001b[0mn2\u001b[0m\u001b[0;34m\u001b[0m\u001b[0;34m\u001b[0m\u001b[0m\n",
      "\u001b[0m\u001b[0;32m     14 \u001b[0;31m    \u001b[0;32mreturn\u001b[0m \u001b[0manswer\u001b[0m\u001b[0;34m\u001b[0m\u001b[0;34m\u001b[0m\u001b[0m\n",
      "\u001b[0m\u001b[0;32m     15 \u001b[0;31m\u001b[0;34m\u001b[0m\u001b[0m\n",
      "\u001b[0m\n"
     ]
    },
    {
     "name": "stdin",
     "output_type": "stream",
     "text": [
      "ipdb>  n1\n"
     ]
    },
    {
     "name": "stdout",
     "output_type": "stream",
     "text": [
      "10\n"
     ]
    },
    {
     "name": "stdin",
     "output_type": "stream",
     "text": [
      "ipdb>  n2\n"
     ]
    },
    {
     "name": "stdout",
     "output_type": "stream",
     "text": [
      "0\n"
     ]
    },
    {
     "name": "stdin",
     "output_type": "stream",
     "text": [
      "ipdb>  c\n"
     ]
    }
   ],
   "source": [
    "%debug"
   ]
  },
  {
   "cell_type": "code",
   "execution_count": null,
   "id": "63f5e5c5-968b-484c-bd25-4b24b4298307",
   "metadata": {},
   "outputs": [],
   "source": []
  },
  {
   "cell_type": "markdown",
   "id": "ed46e627-b814-4082-a153-16bc3fbca2c3",
   "metadata": {},
   "source": [
    "---"
   ]
  },
  {
   "cell_type": "markdown",
   "id": "6d969d94-a7e9-4410-9553-b8297c269891",
   "metadata": {},
   "source": [
    "# 2- PyTorch Basics\n",
    " - https://pytorch.org/docs/stable/index.html\n",
    " - https://pytorch.org/vision/stable/index.html"
   ]
  },
  {
   "cell_type": "code",
   "execution_count": 5,
   "id": "8340805d-ceb9-4041-aa55-617544553200",
   "metadata": {},
   "outputs": [
    {
     "name": "stdout",
     "output_type": "stream",
     "text": [
      "1.10.1+cu102\n"
     ]
    }
   ],
   "source": [
    "import numpy as np\n",
    "import torch\n",
    "print(torch.__version__)"
   ]
  },
  {
   "cell_type": "code",
   "execution_count": 8,
   "id": "77b72f48-5088-4ea8-ac41-c44a3b3a7c43",
   "metadata": {},
   "outputs": [
    {
     "name": "stdout",
     "output_type": "stream",
     "text": [
      "tensor([[ 1.0039e-19,  3.0759e-41,  9.5867e-20],\n",
      "        [ 3.0759e-41, -1.5415e+28,  4.5822e-41],\n",
      "        [-3.5077e+28,  4.5822e-41,  4.0734e+09],\n",
      "        [ 4.5822e-41,  1.6160e+09,  4.5822e-41]])\n",
      "torch.Size([4, 3])\n"
     ]
    }
   ],
   "source": [
    "x = torch.Tensor(4, 3)\n",
    "print(x)\n",
    "print(x.shape)"
   ]
  },
  {
   "cell_type": "code",
   "execution_count": 9,
   "id": "5a2fc780-683b-4ca0-93d5-6f6f6105378a",
   "metadata": {},
   "outputs": [
    {
     "name": "stdout",
     "output_type": "stream",
     "text": [
      "Error: 0.0\n"
     ]
    }
   ],
   "source": [
    "y = x.numpy()\n",
    "x_rec = torch.from_numpy(y)\n",
    "print(f\"Error: {(x - x_rec).norm().item()}\")"
   ]
  },
  {
   "cell_type": "code",
   "execution_count": 10,
   "id": "0aa26478-1174-4e0e-9ce0-c1e1ded1c408",
   "metadata": {},
   "outputs": [
    {
     "name": "stdout",
     "output_type": "stream",
     "text": [
      "tensor([[1.3771, 3.1192],\n",
      "        [1.3771, 3.1192]])\n"
     ]
    }
   ],
   "source": [
    "x = torch.ones(2, 4)\n",
    "y = torch.rand(2, 4)\n",
    "z = torch.matmul(x, y.T)\n",
    "# z = torch.matmul(x, y)\n",
    "print(z)"
   ]
  },
  {
   "cell_type": "markdown",
   "id": "adcd64e5-b71f-441e-a1c1-ac2a95bc4f71",
   "metadata": {},
   "source": [
    "### Some Useful Basic Operations"
   ]
  },
  {
   "cell_type": "markdown",
   "id": "c7a0276d-d785-48d3-9154-8edc56808a9e",
   "metadata": {},
   "source": [
    "#### View and Reshape"
   ]
  },
  {
   "cell_type": "code",
   "execution_count": 11,
   "id": "414adc7a-f1b0-46b5-84ba-b8d42cd434d4",
   "metadata": {},
   "outputs": [
    {
     "name": "stdout",
     "output_type": "stream",
     "text": [
      "features.shape = torch.Size([4, 8, 3, 8, 8])\n"
     ]
    }
   ],
   "source": [
    "# randomly initializing feature maps\n",
    "BATCH_SIZE = 4\n",
    "SEQ_LENGTH = 8\n",
    "NUM_CHANNELS = 3\n",
    "HEIGHT = 8\n",
    "WIDTH = 8\n",
    "\n",
    "features = torch.randn(BATCH_SIZE, SEQ_LENGTH, NUM_CHANNELS, HEIGHT, WIDTH)\n",
    "print(f\"{features.shape = }\")"
   ]
  },
  {
   "cell_type": "code",
   "execution_count": 12,
   "id": "0c7797d6-bc04-4d2e-a3c0-36c41213cd43",
   "metadata": {},
   "outputs": [
    {
     "name": "stdout",
     "output_type": "stream",
     "text": [
      "linear_features.shape = torch.Size([32, 192])\n"
     ]
    }
   ],
   "source": [
    "linear_features = features.view(BATCH_SIZE * SEQ_LENGTH, NUM_CHANNELS * HEIGHT * WIDTH)\n",
    "print(f\"{linear_features.shape = }\")"
   ]
  },
  {
   "cell_type": "code",
   "execution_count": 16,
   "id": "83e011cb-0cf3-46b5-940d-7cbf226b5c67",
   "metadata": {},
   "outputs": [
    {
     "name": "stdout",
     "output_type": "stream",
     "text": [
      "linear_features_2.shape = torch.Size([4, 8, 3, 64])\n"
     ]
    }
   ],
   "source": [
    "linear_features_2 = features.view(BATCH_SIZE, -1, NUM_CHANNELS, HEIGHT * WIDTH)\n",
    "print(f\"{linear_features_2.shape = }\")"
   ]
  },
  {
   "cell_type": "code",
   "execution_count": null,
   "id": "10a6b599-1918-450f-815e-aa94b390143a",
   "metadata": {},
   "outputs": [],
   "source": [
    "recovered_features = linear_features_2.view(BATCH_SIZE, SEQ_LENGTH, NUM_CHANNELS, HEIGHT, WIDTH)\n",
    "print(f\"{recovered_features.shape = }\")"
   ]
  },
  {
   "cell_type": "markdown",
   "id": "1f86899e-4966-4b01-ab56-bb3f108eff29",
   "metadata": {},
   "source": [
    "### Concatenating and Stacking"
   ]
  },
  {
   "cell_type": "code",
   "execution_count": 17,
   "id": "e8ae4b04-7f4d-4579-8d56-3d00cd95300b",
   "metadata": {},
   "outputs": [],
   "source": [
    "tensor_1 = torch.ones(1, 3)\n",
    "tensor_2 = torch.zeros(1, 3)"
   ]
  },
  {
   "cell_type": "code",
   "execution_count": 21,
   "id": "f66401e6-7433-4c22-a478-890270f3fddc",
   "metadata": {},
   "outputs": [
    {
     "name": "stdout",
     "output_type": "stream",
     "text": [
      "stacked_tensor.shape = torch.Size([3, 1, 3])\n"
     ]
    }
   ],
   "source": [
    "stacked_tensor = torch.stack([tensor_1, tensor_2, tensor_2], dim=0)\n",
    "print(f\"{stacked_tensor.shape = }\")"
   ]
  },
  {
   "cell_type": "code",
   "execution_count": 23,
   "id": "ef7d3a7f-3519-4650-99c5-ef010dd0cdca",
   "metadata": {},
   "outputs": [
    {
     "name": "stdout",
     "output_type": "stream",
     "text": [
      "concat_tensor.shape = torch.Size([1, 6])\n"
     ]
    }
   ],
   "source": [
    "concat_tensor = torch.concat([tensor_1, tensor_2], dim=-1)\n",
    "print(f\"{concat_tensor.shape = }\")"
   ]
  },
  {
   "cell_type": "markdown",
   "id": "5a82fdf5-cb4a-4eba-9fd6-420a8ec4e765",
   "metadata": {},
   "source": [
    "### Other useful operations:\n",
    " - Squeezing and Unsqueezing\n",
    " - Permuting and Transposing\n",
    " - Matrix operations and batched matrix operations\n",
    " - Einops\n",
    " - ..."
   ]
  },
  {
   "cell_type": "markdown",
   "id": "ec1c9969-a5c7-42cc-aefc-02725b49ba4e",
   "metadata": {},
   "source": [
    "\n",
    "CUDA Tensors\n",
    "------------\n",
    "\n",
    "Tensors can be moved onto GPU using the ``.cuda`` function.\n",
    "\n",
    " - To run Jupyter or a Python scrip with CUDA, you need to preprend ``CUDA_VISIBLE_DEVICES=ID`` to the call\n",
    " - Connect to server with forwarding option\n",
    " ```bash \n",
    " ssh -L localhost:9999:localhost:9999 villar@bigcuda4.informatik.uni-bonn.de\n",
    " ```\n",
    " - Start serving Jupyter Lab\n",
    " ```bash \n",
    " CUDA_VISIBLE_DEVICES=0 jupyter lab --no-browser --port=9999\n",
    " ```\n",
    " \n",
    " "
   ]
  },
  {
   "cell_type": "code",
   "execution_count": 24,
   "id": "1cb62c72-1ddb-4c43-bf57-fb16c89cea87",
   "metadata": {},
   "outputs": [
    {
     "data": {
      "text/plain": [
       "True"
      ]
     },
     "execution_count": 24,
     "metadata": {},
     "output_type": "execute_result"
    }
   ],
   "source": [
    "# Gives True if PyTorch has access to the GPU and CUDA\n",
    "torch.cuda.is_available()"
   ]
  },
  {
   "cell_type": "code",
   "execution_count": 25,
   "id": "b86c6071-a191-49f2-86db-bad27be52692",
   "metadata": {},
   "outputs": [
    {
     "data": {
      "text/plain": [
       "1"
      ]
     },
     "execution_count": 25,
     "metadata": {},
     "output_type": "execute_result"
    }
   ],
   "source": [
    "# number of available GPUs\n",
    "torch.cuda.device_count()"
   ]
  },
  {
   "cell_type": "code",
   "execution_count": 26,
   "id": "9e266265-15bf-4713-bdcc-17786bdba576",
   "metadata": {},
   "outputs": [],
   "source": [
    "x = torch.ones(2)\n",
    "y = torch.ones(2) "
   ]
  },
  {
   "cell_type": "code",
   "execution_count": 27,
   "id": "e91e4fd7-2ab2-4c51-9a83-4d988792dbd1",
   "metadata": {},
   "outputs": [
    {
     "ename": "RuntimeError",
     "evalue": "Expected all tensors to be on the same device, but found at least two devices, cuda:0 and cpu!",
     "output_type": "error",
     "traceback": [
      "\u001b[0;31m---------------------------------------------------------------------------\u001b[0m",
      "\u001b[0;31mRuntimeError\u001b[0m                              Traceback (most recent call last)",
      "\u001b[0;32m<ipython-input-27-de0676a2ac64>\u001b[0m in \u001b[0;36m<module>\u001b[0;34m\u001b[0m\n\u001b[1;32m      1\u001b[0m \u001b[0mx\u001b[0m \u001b[0;34m=\u001b[0m \u001b[0mx\u001b[0m\u001b[0;34m.\u001b[0m\u001b[0mcuda\u001b[0m\u001b[0;34m(\u001b[0m\u001b[0;34m)\u001b[0m\u001b[0;34m\u001b[0m\u001b[0;34m\u001b[0m\u001b[0m\n\u001b[1;32m      2\u001b[0m \u001b[0;34m\u001b[0m\u001b[0m\n\u001b[0;32m----> 3\u001b[0;31m \u001b[0mz\u001b[0m \u001b[0;34m=\u001b[0m \u001b[0mx\u001b[0m \u001b[0;34m+\u001b[0m \u001b[0my\u001b[0m\u001b[0;34m\u001b[0m\u001b[0;34m\u001b[0m\u001b[0m\n\u001b[0m",
      "\u001b[0;31mRuntimeError\u001b[0m: Expected all tensors to be on the same device, but found at least two devices, cuda:0 and cpu!"
     ]
    }
   ],
   "source": [
    "x = x.cuda()\n",
    "\n",
    "z = x + y"
   ]
  },
  {
   "cell_type": "code",
   "execution_count": 28,
   "id": "3cb69e59-c8fa-4157-9063-2a895ccf0217",
   "metadata": {},
   "outputs": [],
   "source": [
    "y = y.cuda()\n",
    "z = x + y"
   ]
  },
  {
   "cell_type": "code",
   "execution_count": 29,
   "id": "53827880-cde9-4ad9-bd5a-8f1fe8e46d70",
   "metadata": {},
   "outputs": [
    {
     "name": "stdout",
     "output_type": "stream",
     "text": [
      "cuda\n"
     ]
    }
   ],
   "source": [
    "# the magic line\n",
    "device = torch.device(\"cuda\" if torch.cuda.is_available() else \"cpu\")\n",
    "print(device)"
   ]
  },
  {
   "cell_type": "code",
   "execution_count": 30,
   "id": "650629e7-9d16-4de9-99d9-e4a1e4a9c66e",
   "metadata": {},
   "outputs": [],
   "source": [
    "x, y = torch.ones(2), torch.ones(2)\n",
    "x = x.to(device)\n",
    "y = y.to(device)\n",
    "\n",
    "z = x + y"
   ]
  },
  {
   "cell_type": "markdown",
   "id": "479492d4-dd81-4a0a-97eb-4f5ae136ce53",
   "metadata": {},
   "source": [
    "---"
   ]
  },
  {
   "cell_type": "markdown",
   "id": "e92b50db-71b5-4c5e-a163-964618dfafe6",
   "metadata": {},
   "source": [
    "Autograd: Automatic Differentiation\n",
    "===================================\n",
    "\n",
    "Central to all neural networks in PyTorch is the ``autograd`` package.\n",
    "Let’s first briefly visit this, and we will then go to training our\n",
    "first neural network.\n",
    "\n",
    "\n",
    "The ``autograd`` package provides automatic differentiation for all operations\n",
    "on Tensors. It is a define-by-run framework, which means that **your backprop is\n",
    "defined by how your code is run**, and that every single iteration can be\n",
    "different.\n",
    "\n",
    "Let us see this in more simple terms with some examples.\n"
   ]
  },
  {
   "cell_type": "markdown",
   "id": "4241df48-494f-4ce2-9470-4583be1ed7af",
   "metadata": {},
   "source": [
    "## Tensors and Gradients\n",
    "\n",
    "``torch.Tensor`` is the central class of the package. If you set its attribute\n",
    "``.requires_grad`` as ``True``, it starts to track all operations on it.\n"
   ]
  },
  {
   "cell_type": "code",
   "execution_count": 31,
   "id": "64d24d95-2ad2-401b-b999-db886db3adf5",
   "metadata": {},
   "outputs": [
    {
     "name": "stdout",
     "output_type": "stream",
     "text": [
      "'a' requires gradient?: False\n",
      "'a' requires gradient?: True\n"
     ]
    }
   ],
   "source": [
    "a = torch.randn(2, 2)\n",
    "a = ((a * 3) / (a - 1))\n",
    "print(f\"'a' requires gradient?: {a.requires_grad}\")\n",
    "a.requires_grad = True\n",
    "print(f\"'a' requires gradient?: {a.requires_grad}\")"
   ]
  },
  {
   "cell_type": "markdown",
   "id": "15707dec-c220-4771-bf57-f4dae00fc44e",
   "metadata": {
    "tags": []
   },
   "source": [
    "#### By default in torch Tensors ```requires_grad = False```"
   ]
  },
  {
   "cell_type": "code",
   "execution_count": 32,
   "id": "754d297e-ada7-47bd-a04f-5e3b38eb0009",
   "metadata": {},
   "outputs": [
    {
     "name": "stdout",
     "output_type": "stream",
     "text": [
      "tensor([[1., 2., 3.],\n",
      "        [4., 5., 6.]])\n",
      "tensor1.requires_grad = False\n"
     ]
    }
   ],
   "source": [
    "tensor1 = torch.Tensor([[1., 2, 3], [4, 5, 6]])\n",
    "\n",
    "print(tensor1)\n",
    "print(f\"{tensor1.requires_grad = }\")"
   ]
  },
  {
   "cell_type": "code",
   "execution_count": 33,
   "id": "ba047f6f-cd6e-4992-abe7-43aa48b7d1ac",
   "metadata": {},
   "outputs": [
    {
     "name": "stdout",
     "output_type": "stream",
     "text": [
      "tensor([[1., 2., 3.],\n",
      "        [4., 5., 6.]], requires_grad=True)\n",
      "tensor1.requires_grad = True\n"
     ]
    }
   ],
   "source": [
    "tensor1.requires_grad_()\n",
    "# tensor1.requires_grad = True\n",
    "print(tensor1)\n",
    "print(f\"{tensor1.requires_grad = }\")"
   ]
  },
  {
   "cell_type": "markdown",
   "id": "8991f96b-659b-4b2d-929a-695e1aa0ff32",
   "metadata": {},
   "source": [
    "#### There’s one more class which is very important for autograd implementation - a ```Function```. ```Tensor``` and ```Function``` are interconnected and build up an acyclic graph, that encodes a complete history of computation. Each tensor has a ```.grad_fn``` attribute that references a ```Function``` that has created the ```Tensor``` (except for Tensors created by the user - their ```grad_fn is None```)"
   ]
  },
  {
   "cell_type": "code",
   "execution_count": 34,
   "id": "5ff043f5-f30c-4c13-a513-3116a5d16462",
   "metadata": {},
   "outputs": [
    {
     "name": "stdout",
     "output_type": "stream",
     "text": [
      "'a' grad function: None\n",
      "'b' grad function: <PowBackward0 object at 0x7fbc4ac3f100>\n",
      "'c' grad function: <SumBackward0 object at 0x7fbc4b01a0a0>\n"
     ]
    }
   ],
   "source": [
    "a = torch.ones((2,2)).requires_grad_()\n",
    "b = a ** 2\n",
    "c = b.sum()\n",
    "print(f\"'a' grad function: {a.grad_fn}\")\n",
    "print(f\"'b' grad function: {b.grad_fn}\")\n",
    "print(f\"'c' grad function: {c.grad_fn}\")"
   ]
  },
  {
   "cell_type": "code",
   "execution_count": 35,
   "id": "e8b07cf4-0761-47ac-8f5e-dedbb6829e92",
   "metadata": {},
   "outputs": [
    {
     "name": "stdout",
     "output_type": "stream",
     "text": [
      "tensor([[1., 1.],\n",
      "        [1., 1.]], grad_fn=<PowBackward0>)\n",
      "tensor(4., grad_fn=<SumBackward0>)\n"
     ]
    }
   ],
   "source": [
    "print(b)\n",
    "print(c)"
   ]
  },
  {
   "cell_type": "markdown",
   "id": "0121ed24-5f37-470e-9bd8-8a4496d61a02",
   "metadata": {},
   "source": [
    "#### When you finish your computation you can call ```.backward()``` and have all the gradients computed automatically. The gradient for this tensor will be accumulated into ```.grad``` attribute."
   ]
  },
  {
   "cell_type": "code",
   "execution_count": 36,
   "id": "77f53751-e487-49d2-9bb0-4e3326c0659d",
   "metadata": {},
   "outputs": [
    {
     "name": "stdout",
     "output_type": "stream",
     "text": [
      "None\n"
     ]
    }
   ],
   "source": [
    "# no backward pass, so grads are None\n",
    "print(a.grad)"
   ]
  },
  {
   "cell_type": "code",
   "execution_count": 37,
   "id": "0efa3dc7-51f3-4dd8-ba14-5a499c6f5094",
   "metadata": {},
   "outputs": [
    {
     "name": "stdout",
     "output_type": "stream",
     "text": [
      "tensor([[2., 2.],\n",
      "        [2., 2.]])\n"
     ]
    }
   ],
   "source": [
    "c.backward()\n",
    "print(a.grad)"
   ]
  },
  {
   "cell_type": "markdown",
   "id": "05c00f97-e1c1-4326-9452-c48a0673a757",
   "metadata": {},
   "source": [
    "#### **Important** Future calls to backward will accumulate gradients into this vector\n",
    "\n",
    "#### - $y = \\frac{1}{4} \\sum_{i=1}^{4} 2 \\cdot x_i $\n",
    "#### - $\\frac{\\partial y}{\\partial x_i} = \\frac{1}{2}$"
   ]
  },
  {
   "cell_type": "code",
   "execution_count": 40,
   "id": "afbcf612-b7e1-4510-bcb3-86677d521ce0",
   "metadata": {},
   "outputs": [
    {
     "name": "stdout",
     "output_type": "stream",
     "text": [
      "Gradients at iteration 1:\n",
      "tensor([[0.5000, 0.5000],\n",
      "        [0.5000, 0.5000]])\n",
      "\n",
      "Gradients at iteration 2:\n",
      "tensor([[0.5000, 0.5000],\n",
      "        [0.5000, 0.5000]])\n",
      "\n",
      "Gradients at iteration 3:\n",
      "tensor([[0.5000, 0.5000],\n",
      "        [0.5000, 0.5000]])\n",
      "\n"
     ]
    }
   ],
   "source": [
    "x = torch.rand((2, 2)).requires_grad_()\n",
    "for i in range(3):\n",
    "    y = (2 * x).mean()\n",
    "    y.backward()\n",
    "    print(f\"Gradients at iteration {i+1}:\")\n",
    "    print(f\"{x.grad}\\n\")\n",
    "    x.grad.zero_()"
   ]
  },
  {
   "cell_type": "markdown",
   "id": "9463261b-a729-4ea7-8213-9d606e1cf4e8",
   "metadata": {},
   "source": [
    "### Enabling and Disabling Gradient Calculations \n",
    "You can also stops autograd from tracking history on newly created tensors with *requires_grad=True* by wrapping the code block in \n",
    "**with torch.no_grad()**"
   ]
  },
  {
   "cell_type": "code",
   "execution_count": 84,
   "id": "c2d5f0b9-5e9a-4048-a704-b2087501fcaf",
   "metadata": {},
   "outputs": [],
   "source": [
    "tensor1 = torch.Tensor([[1, 2, 3], \n",
    "                        [4, 5, 6]])\n",
    "tensor1.requires_grad = True"
   ]
  },
  {
   "cell_type": "code",
   "execution_count": 85,
   "id": "1663a5c8-4856-4db0-b0de-6556c28b3e7b",
   "metadata": {},
   "outputs": [
    {
     "name": "stdout",
     "output_type": "stream",
     "text": [
      "new_tensor =  tensor([[ 3.,  6.,  9.],\n",
      "        [12., 15., 18.]])\n",
      "requires_grad for tensor1 =  True\n",
      "requires_grad for new_tensor =  False\n"
     ]
    }
   ],
   "source": [
    "with torch.no_grad():\n",
    "    new_tensor = tensor1 * 3\n",
    "    print('new_tensor = ', new_tensor)\n",
    "    print('requires_grad for tensor1 = ', tensor1.requires_grad)\n",
    "    print('requires_grad for new_tensor = ', new_tensor.requires_grad)"
   ]
  },
  {
   "cell_type": "code",
   "execution_count": 86,
   "id": "6328551e-c543-4e6d-ab26-b8e5581aec3c",
   "metadata": {},
   "outputs": [
    {
     "name": "stdout",
     "output_type": "stream",
     "text": [
      "new_tensor =  tensor([[ 3.,  6.,  9.],\n",
      "        [12., 15., 18.]])\n",
      "requires_grad for tensor1 =  True\n",
      "requires_grad for new_tensor =  False\n"
     ]
    }
   ],
   "source": [
    "@torch.no_grad()\n",
    "def mult_by_three(x):\n",
    "    y = x * 3\n",
    "    print('new_tensor = ', y)\n",
    "    print('requires_grad for tensor1 = ', x.requires_grad)\n",
    "    print('requires_grad for new_tensor = ', y.requires_grad)\n",
    "mult_by_three(tensor1)"
   ]
  },
  {
   "cell_type": "markdown",
   "id": "4b70cf19-c9a1-4415-bbff-41c38c4e01a5",
   "metadata": {},
   "source": [
    "### Gradient Calculation\n",
    " - $ y = \\frac{1}{N} \\sum_{i=1}^{N} u_i + 2 \\cdot v_i$ <br><br>\n",
    " - $ \\frac{\\partial y}{\\partial u_i} = \\frac{1}{N}$ <br> <br>\n",
    " - $ \\frac{\\partial y}{\\partial v_i} = \\frac{2}{N}$"
   ]
  },
  {
   "cell_type": "code",
   "execution_count": 46,
   "id": "e6655a50-fbba-4806-ab42-3f9bd565e7bf",
   "metadata": {},
   "outputs": [
    {
     "name": "stdout",
     "output_type": "stream",
     "text": [
      "tensor(15.5000, grad_fn=<MeanBackward0>)\n"
     ]
    }
   ],
   "source": [
    "tensor_one = torch.tensor([[1., 2.], [3., 4.]], requires_grad=True)\n",
    "tensor_two = torch.tensor([[5., 6.], [7., 8.]], requires_grad=True)  \n",
    "\n",
    "final_tensor = (tensor_one + 2 * tensor_two).mean()\n",
    "print(final_tensor)"
   ]
  },
  {
   "cell_type": "code",
   "execution_count": 47,
   "id": "b017507d-18d8-4cea-9f91-0742c2b6b939",
   "metadata": {},
   "outputs": [
    {
     "name": "stdout",
     "output_type": "stream",
     "text": [
      "tensor_one.grad = tensor([[0.2500, 0.2500],\n",
      "        [0.2500, 0.2500]])\n",
      "tensor_two.grad = tensor([[0.5000, 0.5000],\n",
      "        [0.5000, 0.5000]])\n",
      "final_tensor.grad = None\n"
     ]
    },
    {
     "name": "stderr",
     "output_type": "stream",
     "text": [
      "/home/villar/anaconda3/lib/python3.8/site-packages/torch/_tensor.py:1013: UserWarning: The .grad attribute of a Tensor that is not a leaf Tensor is being accessed. Its .grad attribute won't be populated during autograd.backward(). If you indeed want the .grad field to be populated for a non-leaf Tensor, use .retain_grad() on the non-leaf Tensor. If you access the non-leaf Tensor by mistake, make sure you access the leaf Tensor instead. See github.com/pytorch/pytorch/pull/30531 for more informations. (Triggered internally at  aten/src/ATen/core/TensorBody.h:417.)\n",
      "  return self._grad\n"
     ]
    }
   ],
   "source": [
    "final_tensor.backward()\n",
    "\n",
    "print(f\"{tensor_one.grad = }\")\n",
    "\n",
    "print(f\"{tensor_two.grad = }\")\n",
    "\n",
    "print(f\"{final_tensor.grad = }\")"
   ]
  },
  {
   "cell_type": "markdown",
   "id": "6af9eea2-6a6a-42b2-9bd2-5bef22708d55",
   "metadata": {},
   "source": [
    "---"
   ]
  },
  {
   "cell_type": "markdown",
   "id": "92bbcc96-877d-470d-946e-1b04e4d8faea",
   "metadata": {},
   "source": [
    "# 4- Training and Evaluating an MLP"
   ]
  },
  {
   "cell_type": "markdown",
   "id": "0bc744a4-cee7-4557-99d0-1480c650f17c",
   "metadata": {},
   "source": [
    "## 4.1- The MNIST Dataset\n",
    "\n",
    "Official webpage: http://yann.lecun.com/exdb/mnist/\n",
    "\n",
    "The MNIST database contains 60,000 training images and 10,000 testing images. We can flatten this array into a vector of 28x28 = 784 numbers.\n",
    "\n",
    "MNIST is a simple computer vision dataset. It consists of images of handwritten digits like these:\n",
    "\n",
    "<img src=\"imgs/MNIST.png\">\n",
    "\n",
    "It also includes labels for each image, telling us which digit it is. For example, the labels for the above images are 5, 0, 4, and 1."
   ]
  },
  {
   "cell_type": "code",
   "execution_count": 48,
   "id": "7311fe69-6cb7-467e-a319-d580d25c3ba8",
   "metadata": {},
   "outputs": [],
   "source": [
    "import numpy as np\n",
    "import torch\n",
    "import torch.nn as nn\n",
    "import torchvision.transforms as transforms\n",
    "import torchvision.datasets as datasets\n",
    "\n",
    "train_dataset = datasets.MNIST(root='./data', train=True, transform=transforms.ToTensor(), download=True)\n",
    "test_dataset = datasets.MNIST(root='./data', train=False, transform=transforms.ToTensor(), download=True)"
   ]
  },
  {
   "cell_type": "code",
   "execution_count": 49,
   "id": "60ae61d6-eaf2-440a-8058-1b9fcccb83d7",
   "metadata": {},
   "outputs": [],
   "source": [
    "n_imgs_train = len(train_dataset)\n",
    "n_imgs_test = len(test_dataset)"
   ]
  },
  {
   "cell_type": "code",
   "execution_count": 50,
   "id": "f3471e76-4b71-4dbf-a499-49f79fa71b99",
   "metadata": {},
   "outputs": [
    {
     "name": "stdout",
     "output_type": "stream",
     "text": [
      "# Images Train: 60000\n",
      "# Images Test:  10000\n"
     ]
    }
   ],
   "source": [
    "print(f\"# Images Train: {n_imgs_train}\")\n",
    "print(f\"# Images Test:  {n_imgs_test}\")"
   ]
  },
  {
   "cell_type": "code",
   "execution_count": 51,
   "id": "d2708b2a-b64d-4d70-81dd-b2676eafd078",
   "metadata": {},
   "outputs": [
    {
     "name": "stdout",
     "output_type": "stream",
     "text": [
      "Image shape: torch.Size([1, 28, 28])\n",
      "Label: 5\n"
     ]
    }
   ],
   "source": [
    "img_shape = train_dataset[0][0].shape\n",
    "label = train_dataset[0][1]\n",
    "\n",
    "print(f\"Image shape: {img_shape}\")\n",
    "print(f\"Label: {label}\")"
   ]
  },
  {
   "cell_type": "code",
   "execution_count": 53,
   "id": "04ac75bb-13b7-4e8b-a5ba-c19309c4fa69",
   "metadata": {},
   "outputs": [
    {
     "data": {
      "image/png": "[encoded data removed]",
      "text/plain": [
       "<Figure size 1728x216 with 8 Axes>"
      ]
     },
     "metadata": {
      "needs_background": "light"
     },
     "output_type": "display_data"
    }
   ],
   "source": [
    "import matplotlib.pyplot as plt\n",
    "\n",
    "N_IMGS = 8\n",
    "fig, ax = plt.subplots(1,N_IMGS)\n",
    "fig.set_size_inches(3 * N_IMGS, 3)\n",
    "\n",
    "ids = np.random.randint(low=0, high=len(train_dataset), size=N_IMGS)\n",
    "\n",
    "for i, n in enumerate(ids):\n",
    "    img = train_dataset[n][0].numpy().reshape(28,28)\n",
    "    ax[i].imshow(img, cmap='gray')\n",
    "    ax[i].set_title(f\"Img #{n}  Label: {train_dataset[n][1]}\")\n",
    "    ax[i].axis(\"off\")\n",
    "plt.show()"
   ]
  },
  {
   "cell_type": "markdown",
   "id": "355d18f4-64e8-4a97-945a-efabeb4f62f6",
   "metadata": {},
   "source": [
    "### Data Loaders\n",
    "\n",
    "With our dataset object we can iterate over the Dataset by sampling images and their corresponding targets. <br>\n",
    "However, this is somewhat cumbersone and does nto scale too well.<br>\n",
    "\n",
    "In practice, we use Data Loaders, which provide an efficient way to iterate a Dataset object. \n",
    "\n",
    " - https://pytorch.org/docs/stable/data.html#torch.utils.data.DataLoader"
   ]
  },
  {
   "cell_type": "code",
   "execution_count": 61,
   "id": "ed9dd91f-4a2a-4548-94c3-e3459bad7141",
   "metadata": {},
   "outputs": [],
   "source": [
    "BATCH_SIZE = 64\n",
    "SHUFFLE_TRAIN = True"
   ]
  },
  {
   "cell_type": "code",
   "execution_count": 62,
   "id": "52c8a501-b9f6-43c7-9e58-8a59b33f27dc",
   "metadata": {},
   "outputs": [],
   "source": [
    "train_loader =  torch.utils.data.DataLoader(\n",
    "        dataset=train_dataset,\n",
    "        batch_size=BATCH_SIZE,\n",
    "        shuffle=SHUFFLE_TRAIN\n",
    "    )\n",
    "\n",
    "eval_loader =  torch.utils.data.DataLoader(\n",
    "        dataset=test_dataset,\n",
    "        batch_size=BATCH_SIZE,\n",
    "        shuffle=False\n",
    "    )"
   ]
  },
  {
   "cell_type": "code",
   "execution_count": 63,
   "id": "666d662e-fbdc-4347-8cc9-552a609ddc26",
   "metadata": {},
   "outputs": [
    {
     "name": "stdout",
     "output_type": "stream",
     "text": [
      "imgs.shape = torch.Size([64, 1, 28, 28])\n",
      "labels.shape = torch.Size([64])\n"
     ]
    }
   ],
   "source": [
    "imgs, labels = next(iter(eval_loader))\n",
    "print(f\"{imgs.shape = }\")\n",
    "print(f\"{labels.shape = }\")"
   ]
  },
  {
   "cell_type": "code",
   "execution_count": 64,
   "id": "b3880cb5-6725-486b-b809-5250392a6e31",
   "metadata": {},
   "outputs": [
    {
     "name": "stdout",
     "output_type": "stream",
     "text": [
      "Iterating batch #1, which has 64 elements\n",
      "Iterating batch #2, which has 64 elements\n",
      "Iterating batch #3, which has 64 elements\n",
      "Iterating batch #4, which has 64 elements\n",
      "Iterating batch #5, which has 64 elements\n",
      "Iterating batch #6, which has 64 elements\n",
      "Iterating batch #7, which has 64 elements\n",
      "Iterating batch #8, which has 64 elements\n",
      "Iterating batch #9, which has 64 elements\n",
      "Iterating batch #10, which has 64 elements\n",
      "Iterating batch #11, which has 64 elements\n",
      "Iterating batch #12, which has 64 elements\n"
     ]
    }
   ],
   "source": [
    "for i, (imgs, labels) in enumerate(eval_loader):\n",
    "    print(f\"Iterating batch #{i+1}, which has {len(labels)} elements\")\n",
    "    if i > 10:\n",
    "        break"
   ]
  },
  {
   "cell_type": "markdown",
   "id": "9b7f37bf-b1c0-47f2-94b3-d1e97664baa8",
   "metadata": {},
   "source": [
    "## 4.2 Fully Connected Networks and Multi-Layer Perceptron\n",
    "\n",
    "Let's now implement our first neural networks. We will implement fully connected networks (or MLPs if they have over one layer) for classification.\n",
    "\n",
    "<img src=\"imgs/MLP.png\" width=\"20%\"> <span style=\"width: 300px\"></span> <img src=\"imgs/softmax.png\" width=\"48%'\">"
   ]
  },
  {
   "cell_type": "code",
   "execution_count": 65,
   "id": "182bae85-d13d-49f8-90b9-17a0cbbccd4a",
   "metadata": {},
   "outputs": [],
   "source": [
    "import torch.nn as nn"
   ]
  },
  {
   "cell_type": "code",
   "execution_count": 66,
   "id": "9582f6bc-4b9f-48da-be7d-365bea451830",
   "metadata": {},
   "outputs": [],
   "source": [
    "class Model(nn.Module):\n",
    "    \"\"\"\n",
    "    MLP composed of two fully connected layers.\n",
    "     - First layer takes pixel values and maps them to a hidden dimension\n",
    "     - Nonlinear activation\n",
    "     - Second layer maps from hidden dimension to number of classes, predicting a score for each of the classes\n",
    "    \"\"\"\n",
    "    def __init__(self, input_dim=784, hidden_dim=128, output_dim=10):\n",
    "        \"\"\" Model initalizer \"\"\"\n",
    "        super().__init__()\n",
    "        self.layers = nn.Sequential(\n",
    "                nn.Linear(in_features=input_dim, out_features=hidden_dim),\n",
    "                nn.ReLU(),\n",
    "                nn.Linear(in_features=hidden_dim, out_features=output_dim)\n",
    "            )\n",
    "        \n",
    "    def forward(self, x):\n",
    "        \"\"\" Forward pass through the model\"\"\"\n",
    "        assert len(x.shape) == 2, f\"ERROR! Shape of input must be 2D (b_size, dim)\"\n",
    "        pred = self.layers(x)\n",
    "        return pred\n",
    "\n",
    "def count_model_params(model):\n",
    "    \"\"\" Counting the number of learnable parameters in a nn.Module \"\"\"\n",
    "    num_params = sum(p.numel() for p in model.parameters() if p.requires_grad)\n",
    "    return num_params"
   ]
  },
  {
   "cell_type": "code",
   "execution_count": 67,
   "id": "14fca2bf-c655-43b0-9e45-7cb00fe08f09",
   "metadata": {},
   "outputs": [
    {
     "name": "stdout",
     "output_type": "stream",
     "text": [
      "Model(\n",
      "  (layers): Sequential(\n",
      "    (0): Linear(in_features=784, out_features=128, bias=True)\n",
      "    (1): ReLU()\n",
      "    (2): Linear(in_features=128, out_features=10, bias=True)\n",
      "  )\n",
      ")\n"
     ]
    }
   ],
   "source": [
    "model = Model(input_dim=784, hidden_dim=128, output_dim=10)\n",
    "print(model)"
   ]
  },
  {
   "cell_type": "code",
   "execution_count": 70,
   "id": "894268ae-1fb6-438c-b97c-1acda801968b",
   "metadata": {},
   "outputs": [
    {
     "name": "stdout",
     "output_type": "stream",
     "text": [
      "Imgs shape:         torch.Size([64, 1, 28, 28])\n",
      "Model input shape:  torch.Size([64, 784])\n",
      "Model output shape: torch.Size([64, 10])\n"
     ]
    }
   ],
   "source": [
    "imgs, labels = next(iter(eval_loader))      # sampling images\n",
    "flattened_imgs = imgs.flatten(start_dim=1)  # reshaping to desired size\n",
    "output = model(flattened_imgs)              # forward pass through model\n",
    "\n",
    "print(f\"Imgs shape:         {imgs.shape}\")\n",
    "print(f\"Model input shape:  {flattened_imgs.shape}\")\n",
    "print(f\"Model output shape: {output.shape}\")"
   ]
  },
  {
   "cell_type": "markdown",
   "id": "2f94f28b-5d2f-42f9-a6c6-6f7e9396c491",
   "metadata": {},
   "source": [
    "## 4.3 Training the Model"
   ]
  },
  {
   "cell_type": "code",
   "execution_count": 71,
   "id": "19bbcccd-8a0e-449a-be51-dfb04ebf970b",
   "metadata": {},
   "outputs": [],
   "source": [
    "from tqdm import tqdm"
   ]
  },
  {
   "cell_type": "code",
   "execution_count": 72,
   "id": "5404b110-69e0-4dec-a0cf-ab999cc0f005",
   "metadata": {},
   "outputs": [],
   "source": [
    "NUM_EPOCHS = 10\n",
    "LR = 3e-4"
   ]
  },
  {
   "cell_type": "code",
   "execution_count": 73,
   "id": "06f88d9d-285a-4255-bed6-df119667bfd5",
   "metadata": {},
   "outputs": [],
   "source": [
    "device = torch.device(\"cuda\" if torch.cuda.is_available() else \"cpu\")\n",
    "model = Model(input_dim=784, hidden_dim=128, output_dim=10)\n",
    "model = model.to(device)"
   ]
  },
  {
   "cell_type": "code",
   "execution_count": 74,
   "id": "215b3ed0-478f-4c35-b64b-f7b17574edd4",
   "metadata": {},
   "outputs": [],
   "source": [
    "criterion = nn.CrossEntropyLoss()  # already includes a Softmax!\n",
    "optimizer = torch.optim.Adam(model.parameters(), lr=LR)"
   ]
  },
  {
   "cell_type": "code",
   "execution_count": 75,
   "id": "286197d2-0130-4e0d-b366-9861dc424608",
   "metadata": {},
   "outputs": [
    {
     "name": "stderr",
     "output_type": "stream",
     "text": [
      "Epoch 1 Iter 938: loss 0.43657. : 100%|██████████| 938/938 [00:04<00:00, 199.13it/s]\n",
      "Epoch 2 Iter 938: loss 0.22869. : 100%|██████████| 938/938 [00:04<00:00, 203.36it/s]\n",
      "Epoch 3 Iter 938: loss 0.09198. : 100%|██████████| 938/938 [00:04<00:00, 200.67it/s]\n",
      "Epoch 4 Iter 938: loss 0.43613. : 100%|██████████| 938/938 [00:04<00:00, 203.67it/s]\n",
      "Epoch 5 Iter 938: loss 0.10699. : 100%|██████████| 938/938 [00:04<00:00, 208.42it/s]\n",
      "Epoch 6 Iter 938: loss 0.08371. : 100%|██████████| 938/938 [00:04<00:00, 209.01it/s]\n",
      "Epoch 7 Iter 938: loss 0.03385. : 100%|██████████| 938/938 [00:04<00:00, 204.73it/s]\n",
      "Epoch 8 Iter 938: loss 0.25249. : 100%|██████████| 938/938 [00:04<00:00, 202.18it/s]\n",
      "Epoch 9 Iter 938: loss 0.19664. : 100%|██████████| 938/938 [00:04<00:00, 206.65it/s]\n",
      "Epoch 10 Iter 938: loss 0.09259. : 100%|██████████| 938/938 [00:04<00:00, 207.65it/s]\n"
     ]
    }
   ],
   "source": [
    "loss_list = []\n",
    "\n",
    "for epoch in range(NUM_EPOCHS):\n",
    "    progress_bar = tqdm(train_loader, total=len(train_loader))\n",
    "    for i, (imgs, labels) in enumerate(progress_bar):\n",
    "        # using GPU\n",
    "        imgs, labels = imgs.to(device), labels.to(device)\n",
    "    \n",
    "        # forward pass\n",
    "        flattened_imgs = imgs.flatten(start_dim=1)\n",
    "        preds = model(flattened_imgs)\n",
    "    \n",
    "        # computing error\n",
    "        loss = criterion(preds, labels)\n",
    "        loss_list.append(loss.item())\n",
    "\n",
    "        # removing accumulated gradients\n",
    "        optimizer.zero_grad()\n",
    "    \n",
    "        # backprogating error to compute gradients\n",
    "        loss.backward()\n",
    "    \n",
    "        # updating arameters\n",
    "        optimizer.step()\n",
    "    \n",
    "        if(i % 100 == 0 or i == len(train_loader) - 1):\n",
    "            progress_bar.set_description(f\"Epoch {epoch + 1} Iter {i + 1}: loss {loss.item():.5f}. \")"
   ]
  },
  {
   "cell_type": "code",
   "execution_count": 76,
   "id": "c7c3e75b-0045-41dd-9f94-8848711b556d",
   "metadata": {},
   "outputs": [],
   "source": [
    "def smooth(f, K=5):\n",
    "    \"\"\" Smoothing a function using a low-pass filter (mean) of size K \"\"\"\n",
    "    kernel = np.ones(K) / K\n",
    "    f = np.concatenate([f[:int(K//2)], f, f[int(-K//2):]])  # to account for boundaries\n",
    "    smooth_f = np.convolve(f, kernel, mode=\"same\")\n",
    "    smooth_f = smooth_f[K//2: -K//2]  # removing boundary-fixes\n",
    "    return smooth_f"
   ]
  },
  {
   "cell_type": "code",
   "execution_count": 77,
   "id": "a7248f91-bedb-4c26-ba21-30ad90481049",
   "metadata": {},
   "outputs": [
    {
     "data": {
      "image/png": "[encoded data removed]",
      "text/plain": [
       "<Figure size 1296x360 with 2 Axes>"
      ]
     },
     "metadata": {},
     "output_type": "display_data"
    }
   ],
   "source": [
    "plt.style.use('seaborn')\n",
    "fig, ax = plt.subplots(1,2)\n",
    "fig.set_size_inches(18,5)\n",
    "\n",
    "smooth_loss = smooth(loss_list, 31)\n",
    "ax[0].plot(loss_list, c=\"blue\", label=\"Training Loss\", linewidth=3, alpha=0.5)\n",
    "ax[0].plot(smooth_loss, c=\"red\", label=\"Smoothed Loss\", linewidth=3)\n",
    "ax[0].legend(loc=\"best\")\n",
    "ax[0].set_xlabel(\"Iteration\")\n",
    "ax[0].set_ylabel(\"CE Loss\")\n",
    "ax[0].set_title(\"Training Progress (linearscale)\")\n",
    "\n",
    "ax[1].plot(loss_list, c=\"blue\", label=\"Training Loss\", linewidth=3, alpha=0.5)\n",
    "ax[1].plot(smooth_loss, c=\"red\", label=\"Smoothed Loss\", linewidth=3)\n",
    "ax[1].legend(loc=\"best\")\n",
    "ax[1].set_xlabel(\"Iteration\")\n",
    "ax[1].set_ylabel(\"CE Loss\")\n",
    "ax[1].set_yscale(\"log\")\n",
    "ax[1].set_title(\"Training Progress (logscale)\")\n",
    "\n",
    "plt.show()"
   ]
  },
  {
   "cell_type": "markdown",
   "id": "cd3f0dd4-cc88-4bb3-8326-665e0b556127",
   "metadata": {},
   "source": [
    "## 4.4 Evaluating Trained Model"
   ]
  },
  {
   "cell_type": "code",
   "execution_count": 83,
   "id": "d2386897-0611-40d2-901e-86440572a2d1",
   "metadata": {},
   "outputs": [
    {
     "name": "stderr",
     "output_type": "stream",
     "text": [
      "100%|██████████| 157/157 [00:00<00:00, 235.90it/s]"
     ]
    },
    {
     "name": "stdout",
     "output_type": "stream",
     "text": [
      "Test accuracy: 97.32%\n"
     ]
    },
    {
     "name": "stderr",
     "output_type": "stream",
     "text": [
      "\n"
     ]
    }
   ],
   "source": [
    "n_correct = 0\n",
    "\n",
    "with torch.no_grad():\n",
    "    progress_bar = tqdm(enumerate(eval_loader), total=len(eval_loader))\n",
    "    for i, (imgs, labels) in progress_bar: \n",
    "        #everything needs to be on the same device\n",
    "        imgs = imgs.to(device)\n",
    "        labels = labels.to(device)\n",
    "        \n",
    "        # forward pass\n",
    "        flattened_imgs = imgs.flatten(start_dim=1)\n",
    "        preds = model(flattened_imgs)\n",
    "        \n",
    "        pred_labels = torch.argmax(preds, dim=-1)\n",
    "        cur_correct = len(torch.where(pred_labels == labels)[0])\n",
    "        n_correct = n_correct + cur_correct\n",
    "\n",
    "accuracy = n_correct / len(test_dataset) * 100\n",
    "print(f\"Test accuracy: {round(accuracy,2)}%\")"
   ]
  },
  {
   "cell_type": "markdown",
   "id": "9c2497f9-c10e-490f-ad65-7ba96643798a",
   "metadata": {},
   "source": [
    "## Saving and Loading Model Checkpoints"
   ]
  },
  {
   "cell_type": "code",
   "execution_count": 79,
   "id": "d1db49cc-dc83-4736-97d1-f2f382c10fe9",
   "metadata": {},
   "outputs": [],
   "source": [
    "import os"
   ]
  },
  {
   "cell_type": "code",
   "execution_count": 81,
   "id": "c8a23d8e-c20d-4106-8c5d-da2657d7741d",
   "metadata": {},
   "outputs": [],
   "source": [
    "if(not os.path.exists(\"models\")):\n",
    "    os.makedirs(\"models\")\n",
    "savepath = f\"models/checkpoint_epoch_{epoch}.pth\"\n",
    "\n",
    "torch.save({\n",
    "    'epoch': epoch,\n",
    "    'model_state_dict': model.state_dict(),\n",
    "    'optimizer_state_dict': optimizer.state_dict(),\n",
    "}, savepath)"
   ]
  },
  {
   "cell_type": "code",
   "execution_count": 82,
   "id": "6acf824b-20f8-4a6b-bf93-1aa31ba331a8",
   "metadata": {},
   "outputs": [],
   "source": [
    "model = Model()\n",
    "model = model.to(device)\n",
    "optimizer = torch.optim.Adam(model.parameters(), lr=LR)\n",
    "\n",
    "checkpoint = torch.load(savepath)\n",
    "\n",
    "model.load_state_dict(checkpoint['model_state_dict'])\n",
    "optimizer.load_state_dict(checkpoint['optimizer_state_dict'])\n",
    "epoch = checkpoint[\"epoch\"]"
   ]
  },
  {
   "cell_type": "code",
   "execution_count": null,
   "id": "e761cac6-dfc3-4b59-94eb-33abe2822ad0",
   "metadata": {},
   "outputs": [],
   "source": []
  },
  {
   "cell_type": "code",
   "execution_count": null,
   "id": "c404cb38-187d-4ea1-abc4-feca4342c64d",
   "metadata": {},
   "outputs": [],
   "source": []
  },
  {
   "cell_type": "markdown",
   "id": "3850a55d-4189-4a03-b7a1-0093fe1f7a24",
   "metadata": {},
   "source": [
    "# Groups"
   ]
  },
  {
   "cell_type": "markdown",
   "id": "95e2ff9d-d2ef-4717-b710-526fce80da8f",
   "metadata": {},
   "source": [
    "# Assignment 1"
   ]
  },
  {
   "cell_type": "markdown",
   "id": "cc54af06-010a-473f-94c1-d93c5b036438",
   "metadata": {},
   "source": [
    "- Train and Evaluate an MLP Classifier on the FashionMNIST dataset using PyTorch\n",
    "- Draw learning curves (train/eval loss, train/eval classification accuracy) and confusion matrix\n",
    "- Use *Optuna* to optimize (at least) two hyper-parameters (e.g, number of layers or hidden dimension) and show me some nice optimization plots :) \n",
    "- Visualize the norm of the gradients for some parameters during training, i.e., how the error decreases for some parameters as the model learns"
   ]
  },
  {
   "cell_type": "markdown",
   "id": "c368cb5e-d083-4bc7-a4f2-20e549bbf16b",
   "metadata": {},
   "source": [
    "#### **Deadline**: Wednesady 16th at 23:59"
   ]
  },
  {
   "cell_type": "markdown",
   "id": "623faedf-b135-4c60-9053-b1630952b07e",
   "metadata": {},
   "source": [
    "#### **Next Session**: Friday 18th at 10:00"
   ]
  },
  {
   "cell_type": "markdown",
   "id": "f062c310-8ded-4107-a493-21e420c4a581",
   "metadata": {},
   "source": [
    "## References:\n",
    " - https://pytorch.org/docs/stable/index.html\n",
    " - https://pytorch.org/docs/stable/autograd.html#\n",
    " - https://pytorch.org/docs/stable/nn.html\n",
    " - http://cs231n.stanford.edu/\n",
    " - http://neuralnetworksanddeeplearning.com/"
   ]
  },
  {
   "cell_type": "markdown",
   "id": "ce05c2ca-fbd9-4791-bd4f-36de9cd9173c",
   "metadata": {},
   "source": [
    "<div class=alert style=\"background-color:#F5F5F5; border-color:#C8C8C8\">\n",
    "    <b>Angel Villar-Corrales</b><br>\n",
    "    <ul>\n",
    "       <li> <b>Email</b>: villar@ais.uni-bonn.de\n",
    "       <li> <b>Website</b>: angelvillarcorrales.com\n",
    "    </ul>\n",
    "</div> "
   ]
  }
 ],
 "metadata": {
  "kernelspec": {
   "display_name": "Python 3",
   "language": "python",
   "name": "python3"
  },
  "language_info": {
   "codemirror_mode": {
    "name": "ipython",
    "version": 3
   },
   "file_extension": ".py",
   "mimetype": "text/x-python",
   "name": "python",
   "nbconvert_exporter": "python",
   "pygments_lexer": "ipython3",
   "version": "3.8.8"
  }
 },
 "nbformat": 4,
 "nbformat_minor": 5
}
